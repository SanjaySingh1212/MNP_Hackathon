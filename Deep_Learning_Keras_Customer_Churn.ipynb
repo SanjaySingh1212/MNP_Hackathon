{
 "cells": [
  {
   "cell_type": "code",
   "execution_count": 1,
   "metadata": {},
   "outputs": [
    {
     "name": "stderr",
     "output_type": "stream",
     "text": [
      "Using TensorFlow backend.\n"
     ]
    }
   ],
   "source": [
    "import numpy as np\n",
    "import pandas as pd # data processing, CSV file I/O (e.g. pd.read_csv)\n",
    "import matplotlib.pyplot as plt\n",
    "from keras.models import Sequential, Input\n",
    "from keras.models import Model\n",
    "from keras.layers import Dense, Dropout\n",
    "from hyperopt import Trials, STATUS_OK, tpe\n",
    "from hyperas import optim\n",
    "from hyperas.distributions import choice, uniform\n",
    "import os"
   ]
  },
  {
   "cell_type": "code",
   "execution_count": 2,
   "metadata": {},
   "outputs": [],
   "source": [
    "os.chdir('C:\\\\Users\\\\s114sing\\\\OneDrive - Nokia\\\\Training Material\\\\Hackathon\\\\telecom-customer')\n",
    "#data = pd.read_csv('Telecom_customer_churn_data_manipulation_2.csv')\n",
    "data = pd.read_csv('Telecom_Manipulated_Data.csv')"
   ]
  },
  {
   "cell_type": "code",
   "execution_count": 3,
   "metadata": {},
   "outputs": [
    {
     "data": {
      "text/plain": [
       "rev_Mean       float64\n",
       "mou_Mean       float64\n",
       "totmrc_Mean    float64\n",
       "da_Mean        float64\n",
       "ovrmou_Mean    float64\n",
       "                ...   \n",
       "kid11_15         int64\n",
       "kid16_17         int64\n",
       "creditcd         int64\n",
       "eqpdays        float64\n",
       "Customer_ID      int64\n",
       "Length: 100, dtype: object"
      ]
     },
     "execution_count": 3,
     "metadata": {},
     "output_type": "execute_result"
    }
   ],
   "source": [
    "data.dtypes"
   ]
  },
  {
   "cell_type": "code",
   "execution_count": 4,
   "metadata": {},
   "outputs": [
    {
     "data": {
      "text/html": [
       "<div>\n",
       "<style scoped>\n",
       "    .dataframe tbody tr th:only-of-type {\n",
       "        vertical-align: middle;\n",
       "    }\n",
       "\n",
       "    .dataframe tbody tr th {\n",
       "        vertical-align: top;\n",
       "    }\n",
       "\n",
       "    .dataframe thead th {\n",
       "        text-align: right;\n",
       "    }\n",
       "</style>\n",
       "<table border=\"1\" class=\"dataframe\">\n",
       "  <thead>\n",
       "    <tr style=\"text-align: right;\">\n",
       "      <th></th>\n",
       "      <th>rev_Mean</th>\n",
       "      <th>mou_Mean</th>\n",
       "      <th>totmrc_Mean</th>\n",
       "      <th>da_Mean</th>\n",
       "      <th>ovrmou_Mean</th>\n",
       "      <th>ovrrev_Mean</th>\n",
       "      <th>vceovr_Mean</th>\n",
       "      <th>datovr_Mean</th>\n",
       "      <th>roam_Mean</th>\n",
       "      <th>change_mou</th>\n",
       "      <th>...</th>\n",
       "      <th>forgntvl</th>\n",
       "      <th>ethnic</th>\n",
       "      <th>kid0_2</th>\n",
       "      <th>kid3_5</th>\n",
       "      <th>kid6_10</th>\n",
       "      <th>kid11_15</th>\n",
       "      <th>kid16_17</th>\n",
       "      <th>creditcd</th>\n",
       "      <th>eqpdays</th>\n",
       "      <th>Customer_ID</th>\n",
       "    </tr>\n",
       "  </thead>\n",
       "  <tbody>\n",
       "    <tr>\n",
       "      <td>count</td>\n",
       "      <td>100000.000000</td>\n",
       "      <td>100000.000000</td>\n",
       "      <td>100000.000000</td>\n",
       "      <td>100000.000000</td>\n",
       "      <td>100000.000000</td>\n",
       "      <td>100000.000000</td>\n",
       "      <td>100000.000000</td>\n",
       "      <td>100000.000000</td>\n",
       "      <td>100000.000000</td>\n",
       "      <td>100000.000000</td>\n",
       "      <td>...</td>\n",
       "      <td>100000.000000</td>\n",
       "      <td>100000.000000</td>\n",
       "      <td>100000.000000</td>\n",
       "      <td>100000.000000</td>\n",
       "      <td>100000.000000</td>\n",
       "      <td>100000.00000</td>\n",
       "      <td>100000.000000</td>\n",
       "      <td>100000.000000</td>\n",
       "      <td>100000.000000</td>\n",
       "      <td>1.000000e+05</td>\n",
       "    </tr>\n",
       "    <tr>\n",
       "      <td>mean</td>\n",
       "      <td>58.719985</td>\n",
       "      <td>513.559937</td>\n",
       "      <td>46.179136</td>\n",
       "      <td>0.888828</td>\n",
       "      <td>41.072247</td>\n",
       "      <td>13.559560</td>\n",
       "      <td>13.295062</td>\n",
       "      <td>0.261318</td>\n",
       "      <td>1.286405</td>\n",
       "      <td>-13.933818</td>\n",
       "      <td>...</td>\n",
       "      <td>0.057974</td>\n",
       "      <td>10.110500</td>\n",
       "      <td>1.040120</td>\n",
       "      <td>1.046960</td>\n",
       "      <td>1.080730</td>\n",
       "      <td>1.08814</td>\n",
       "      <td>1.099640</td>\n",
       "      <td>1.689660</td>\n",
       "      <td>392.456789</td>\n",
       "      <td>1.050000e+06</td>\n",
       "    </tr>\n",
       "    <tr>\n",
       "      <td>std</td>\n",
       "      <td>46.208972</td>\n",
       "      <td>524.229868</td>\n",
       "      <td>23.581283</td>\n",
       "      <td>2.173729</td>\n",
       "      <td>97.122320</td>\n",
       "      <td>30.446392</td>\n",
       "      <td>30.002391</td>\n",
       "      <td>3.120946</td>\n",
       "      <td>14.685090</td>\n",
       "      <td>274.854774</td>\n",
       "      <td>...</td>\n",
       "      <td>0.231663</td>\n",
       "      <td>3.700514</td>\n",
       "      <td>0.196242</td>\n",
       "      <td>0.211554</td>\n",
       "      <td>0.272421</td>\n",
       "      <td>0.28350</td>\n",
       "      <td>0.299521</td>\n",
       "      <td>0.462635</td>\n",
       "      <td>256.076848</td>\n",
       "      <td>2.886766e+04</td>\n",
       "    </tr>\n",
       "    <tr>\n",
       "      <td>min</td>\n",
       "      <td>-6.167500</td>\n",
       "      <td>0.000000</td>\n",
       "      <td>-26.915000</td>\n",
       "      <td>0.000000</td>\n",
       "      <td>0.000000</td>\n",
       "      <td>0.000000</td>\n",
       "      <td>0.000000</td>\n",
       "      <td>0.000000</td>\n",
       "      <td>0.000000</td>\n",
       "      <td>-3875.000000</td>\n",
       "      <td>...</td>\n",
       "      <td>0.000000</td>\n",
       "      <td>1.000000</td>\n",
       "      <td>1.000000</td>\n",
       "      <td>1.000000</td>\n",
       "      <td>1.000000</td>\n",
       "      <td>1.00000</td>\n",
       "      <td>1.000000</td>\n",
       "      <td>1.000000</td>\n",
       "      <td>0.000000</td>\n",
       "      <td>1.000001e+06</td>\n",
       "    </tr>\n",
       "    <tr>\n",
       "      <td>25%</td>\n",
       "      <td>33.311875</td>\n",
       "      <td>151.500000</td>\n",
       "      <td>30.000000</td>\n",
       "      <td>0.000000</td>\n",
       "      <td>0.000000</td>\n",
       "      <td>0.000000</td>\n",
       "      <td>0.000000</td>\n",
       "      <td>0.000000</td>\n",
       "      <td>0.000000</td>\n",
       "      <td>-86.000000</td>\n",
       "      <td>...</td>\n",
       "      <td>0.000000</td>\n",
       "      <td>7.000000</td>\n",
       "      <td>1.000000</td>\n",
       "      <td>1.000000</td>\n",
       "      <td>1.000000</td>\n",
       "      <td>1.00000</td>\n",
       "      <td>1.000000</td>\n",
       "      <td>1.000000</td>\n",
       "      <td>212.000000</td>\n",
       "      <td>1.025001e+06</td>\n",
       "    </tr>\n",
       "    <tr>\n",
       "      <td>50%</td>\n",
       "      <td>48.377500</td>\n",
       "      <td>357.500000</td>\n",
       "      <td>44.990000</td>\n",
       "      <td>0.247500</td>\n",
       "      <td>3.000000</td>\n",
       "      <td>1.050000</td>\n",
       "      <td>0.700000</td>\n",
       "      <td>0.000000</td>\n",
       "      <td>0.000000</td>\n",
       "      <td>-7.000000</td>\n",
       "      <td>...</td>\n",
       "      <td>0.000000</td>\n",
       "      <td>10.000000</td>\n",
       "      <td>1.000000</td>\n",
       "      <td>1.000000</td>\n",
       "      <td>1.000000</td>\n",
       "      <td>1.00000</td>\n",
       "      <td>1.000000</td>\n",
       "      <td>2.000000</td>\n",
       "      <td>342.000000</td>\n",
       "      <td>1.050000e+06</td>\n",
       "    </tr>\n",
       "    <tr>\n",
       "      <td>75%</td>\n",
       "      <td>70.630000</td>\n",
       "      <td>701.250000</td>\n",
       "      <td>59.990000</td>\n",
       "      <td>0.888828</td>\n",
       "      <td>42.000000</td>\n",
       "      <td>14.350000</td>\n",
       "      <td>13.950000</td>\n",
       "      <td>0.000000</td>\n",
       "      <td>0.257500</td>\n",
       "      <td>61.750000</td>\n",
       "      <td>...</td>\n",
       "      <td>0.000000</td>\n",
       "      <td>14.000000</td>\n",
       "      <td>1.000000</td>\n",
       "      <td>1.000000</td>\n",
       "      <td>1.000000</td>\n",
       "      <td>1.00000</td>\n",
       "      <td>1.000000</td>\n",
       "      <td>2.000000</td>\n",
       "      <td>530.000000</td>\n",
       "      <td>1.075000e+06</td>\n",
       "    </tr>\n",
       "    <tr>\n",
       "      <td>max</td>\n",
       "      <td>3843.262500</td>\n",
       "      <td>12206.750000</td>\n",
       "      <td>409.990000</td>\n",
       "      <td>159.390000</td>\n",
       "      <td>4320.750000</td>\n",
       "      <td>1102.400000</td>\n",
       "      <td>896.087500</td>\n",
       "      <td>423.540000</td>\n",
       "      <td>3685.200000</td>\n",
       "      <td>31219.250000</td>\n",
       "      <td>...</td>\n",
       "      <td>1.000000</td>\n",
       "      <td>17.000000</td>\n",
       "      <td>2.000000</td>\n",
       "      <td>2.000000</td>\n",
       "      <td>2.000000</td>\n",
       "      <td>2.00000</td>\n",
       "      <td>2.000000</td>\n",
       "      <td>2.000000</td>\n",
       "      <td>1823.000000</td>\n",
       "      <td>1.100000e+06</td>\n",
       "    </tr>\n",
       "  </tbody>\n",
       "</table>\n",
       "<p>8 rows × 100 columns</p>\n",
       "</div>"
      ],
      "text/plain": [
       "            rev_Mean       mou_Mean    totmrc_Mean        da_Mean  \\\n",
       "count  100000.000000  100000.000000  100000.000000  100000.000000   \n",
       "mean       58.719985     513.559937      46.179136       0.888828   \n",
       "std        46.208972     524.229868      23.581283       2.173729   \n",
       "min        -6.167500       0.000000     -26.915000       0.000000   \n",
       "25%        33.311875     151.500000      30.000000       0.000000   \n",
       "50%        48.377500     357.500000      44.990000       0.247500   \n",
       "75%        70.630000     701.250000      59.990000       0.888828   \n",
       "max      3843.262500   12206.750000     409.990000     159.390000   \n",
       "\n",
       "         ovrmou_Mean    ovrrev_Mean    vceovr_Mean    datovr_Mean  \\\n",
       "count  100000.000000  100000.000000  100000.000000  100000.000000   \n",
       "mean       41.072247      13.559560      13.295062       0.261318   \n",
       "std        97.122320      30.446392      30.002391       3.120946   \n",
       "min         0.000000       0.000000       0.000000       0.000000   \n",
       "25%         0.000000       0.000000       0.000000       0.000000   \n",
       "50%         3.000000       1.050000       0.700000       0.000000   \n",
       "75%        42.000000      14.350000      13.950000       0.000000   \n",
       "max      4320.750000    1102.400000     896.087500     423.540000   \n",
       "\n",
       "           roam_Mean     change_mou  ...       forgntvl         ethnic  \\\n",
       "count  100000.000000  100000.000000  ...  100000.000000  100000.000000   \n",
       "mean        1.286405     -13.933818  ...       0.057974      10.110500   \n",
       "std        14.685090     274.854774  ...       0.231663       3.700514   \n",
       "min         0.000000   -3875.000000  ...       0.000000       1.000000   \n",
       "25%         0.000000     -86.000000  ...       0.000000       7.000000   \n",
       "50%         0.000000      -7.000000  ...       0.000000      10.000000   \n",
       "75%         0.257500      61.750000  ...       0.000000      14.000000   \n",
       "max      3685.200000   31219.250000  ...       1.000000      17.000000   \n",
       "\n",
       "              kid0_2         kid3_5        kid6_10      kid11_15  \\\n",
       "count  100000.000000  100000.000000  100000.000000  100000.00000   \n",
       "mean        1.040120       1.046960       1.080730       1.08814   \n",
       "std         0.196242       0.211554       0.272421       0.28350   \n",
       "min         1.000000       1.000000       1.000000       1.00000   \n",
       "25%         1.000000       1.000000       1.000000       1.00000   \n",
       "50%         1.000000       1.000000       1.000000       1.00000   \n",
       "75%         1.000000       1.000000       1.000000       1.00000   \n",
       "max         2.000000       2.000000       2.000000       2.00000   \n",
       "\n",
       "            kid16_17       creditcd        eqpdays   Customer_ID  \n",
       "count  100000.000000  100000.000000  100000.000000  1.000000e+05  \n",
       "mean        1.099640       1.689660     392.456789  1.050000e+06  \n",
       "std         0.299521       0.462635     256.076848  2.886766e+04  \n",
       "min         1.000000       1.000000       0.000000  1.000001e+06  \n",
       "25%         1.000000       1.000000     212.000000  1.025001e+06  \n",
       "50%         1.000000       2.000000     342.000000  1.050000e+06  \n",
       "75%         1.000000       2.000000     530.000000  1.075000e+06  \n",
       "max         2.000000       2.000000    1823.000000  1.100000e+06  \n",
       "\n",
       "[8 rows x 100 columns]"
      ]
     },
     "execution_count": 4,
     "metadata": {},
     "output_type": "execute_result"
    }
   ],
   "source": [
    "data.describe()"
   ]
  },
  {
   "cell_type": "code",
   "execution_count": 5,
   "metadata": {},
   "outputs": [
    {
     "data": {
      "text/plain": [
       "(80000, 98)"
      ]
     },
     "execution_count": 5,
     "metadata": {},
     "output_type": "execute_result"
    }
   ],
   "source": [
    "\n",
    "Y = data['churn'].values #churn values to be predicted  \n",
    "X = data.drop(columns= ['churn']) # values without churn\n",
    "X = X.drop(columns= ['Customer_ID'])\n",
    "\n",
    "# Create Train & Test Data\n",
    "from sklearn.model_selection import train_test_split\n",
    "X_train, X_test, Y_train, Y_test = train_test_split(X, Y, test_size=0.2, random_state=42)\n",
    "np.shape(X_train)"
   ]
  },
  {
   "cell_type": "code",
   "execution_count": 6,
   "metadata": {},
   "outputs": [
    {
     "name": "stdout",
     "output_type": "stream",
     "text": [
      "Epoch 1/2\n",
      "80000/80000 [==============================] - ETA: 18s - loss: 1665.1620 - accuracy: 0.49 - ETA: 8s - loss: 1599.1215 - accuracy: 0.4977 - ETA: 4s - loss: 1517.6455 - accuracy: 0.495 - ETA: 3s - loss: 1439.3126 - accuracy: 0.494 - ETA: 1s - loss: 1369.4426 - accuracy: 0.496 - ETA: 1s - loss: 1307.3574 - accuracy: 0.496 - ETA: 0s - loss: 1244.8177 - accuracy: 0.497 - 4s 44us/step - loss: 1192.3829 - accuracy: 0.4970\n",
      "Epoch 2/2\n",
      "80000/80000 [==============================] - ETA: 0s - loss: 692.0394 - accuracy: 0.50 - ETA: 0s - loss: 674.8352 - accuracy: 0.49 - ETA: 0s - loss: 660.3502 - accuracy: 0.50 - ETA: 0s - loss: 646.1276 - accuracy: 0.49 - ETA: 0s - loss: 630.0224 - accuracy: 0.50 - ETA: 0s - loss: 624.9162 - accuracy: 0.50 - ETA: 0s - loss: 617.1757 - accuracy: 0.50 - 1s 10us/step - loss: 613.9732 - accuracy: 0.5004\n",
      "20000/20000 [==============================] - ETA: 1: - ETA: 2s - ETA:  - ETA:  - ETA:  - ETA:  - ETA:  - ETA:  - ETA:  - ETA:  - ETA:  - ETA:  - 1s 40us/step\n",
      "Accuracy: 50.13\n"
     ]
    }
   ],
   "source": [
    "model = Sequential()\n",
    "model.add(Dense(64, input_dim=98, activation='relu'))\n",
    "model.add(Dropout(0.5))\n",
    "model.add(Dense(64, activation='relu'))\n",
    "model.add(Dropout(0.5))\n",
    "model.add(Dense(1, activation='sigmoid'))\n",
    "\n",
    "model.compile(loss='binary_crossentropy',\n",
    "              optimizer='adam',\n",
    "              metrics=['accuracy'])\n",
    "\n",
    "model.fit(X_train, Y_train,\n",
    "          epochs=2,batch_size=10000)\n",
    "_, accuracy = model.evaluate(X_test, Y_test)\n",
    "print('Accuracy: %.2f' % (accuracy*100))"
   ]
  },
  {
   "cell_type": "code",
   "execution_count": 7,
   "metadata": {},
   "outputs": [
    {
     "name": "stdout",
     "output_type": "stream",
     "text": [
      "Epoch 1/1\n",
      "80000/80000 [==============================] - ETA: 1:03 - loss: 172.9381 - accuracy: 0.46 - ETA: 33s - loss: 769.9282 - accuracy: 0.4800 - ETA: 17s - loss: 515.6029 - accuracy: 0.500 - ETA: 12s - loss: 408.8709 - accuracy: 0.504 - ETA: 9s - loss: 344.1115 - accuracy: 0.502 - ETA: 7s - loss: 299.8123 - accuracy: 0.50 - ETA: 6s - loss: 269.3487 - accuracy: 0.50 - ETA: 5s - loss: 243.1703 - accuracy: 0.50 - ETA: 5s - loss: 226.2532 - accuracy: 0.50 - ETA: 4s - loss: 210.2186 - accuracy: 0.50 - ETA: 4s - loss: 197.3082 - accuracy: 0.50 - ETA: 3s - loss: 186.1313 - accuracy: 0.50 - ETA: 3s - loss: 183.8597 - accuracy: 0.50 - ETA: 3s - loss: 177.0789 - accuracy: 0.50 - ETA: 3s - loss: 169.3414 - accuracy: 0.50 - ETA: 3s - loss: 161.2906 - accuracy: 0.50 - ETA: 3s - loss: 154.3996 - accuracy: 0.50 - ETA: 2s - loss: 147.5095 - accuracy: 0.50 - ETA: 2s - loss: 141.5468 - accuracy: 0.50 - ETA: 2s - loss: 136.5658 - accuracy: 0.50 - ETA: 2s - loss: 131.1872 - accuracy: 0.50 - ETA: 2s - loss: 125.3195 - accuracy: 0.50 - ETA: 1s - loss: 121.0717 - accuracy: 0.50 - ETA: 1s - loss: 116.0567 - accuracy: 0.50 - ETA: 1s - loss: 112.5388 - accuracy: 0.50 - ETA: 1s - loss: 108.3837 - accuracy: 0.50 - ETA: 1s - loss: 103.6399 - accuracy: 0.50 - ETA: 1s - loss: 100.9749 - accuracy: 0.50 - ETA: 1s - loss: 98.0568 - accuracy: 0.5038 - ETA: 0s - loss: 95.2255 - accuracy: 0.503 - ETA: 0s - loss: 91.3379 - accuracy: 0.503 - ETA: 0s - loss: 88.9609 - accuracy: 0.502 - ETA: 0s - loss: 86.8282 - accuracy: 0.502 - ETA: 0s - loss: 84.7949 - accuracy: 0.501 - ETA: 0s - loss: 82.6505 - accuracy: 0.502 - ETA: 0s - loss: 81.5691 - accuracy: 0.501 - ETA: 0s - loss: 80.6416 - accuracy: 0.501 - ETA: 0s - loss: 77.7938 - accuracy: 0.501 - ETA: 0s - loss: 76.2346 - accuracy: 0.501 - 3s 40us/step - loss: 74.0102 - accuracy: 0.5010\n"
     ]
    },
    {
     "data": {
      "text/plain": [
       "<keras.callbacks.callbacks.History at 0x22d438a1e48>"
      ]
     },
     "execution_count": 7,
     "metadata": {},
     "output_type": "execute_result"
    }
   ],
   "source": [
    "n_layers = 3\n",
    "inputs = Input(shape=(98,))\n",
    "x = Dense(200,activation='relu')(inputs)\n",
    "for layer in range(n_layers -1):\n",
    "    x = Dense(200,activation='relu')(x)\n",
    "    \n",
    "output = Dense(1,activation='sigmoid')(x)\n",
    "\n",
    "#create Deep Nueral Network Model\n",
    "dnn = Model(inputs,output)\n",
    "dnn.compile(optimizer='rmsprop',\n",
    "            loss='binary_crossentropy',\n",
    "              metrics=['accuracy'])\n",
    "dnn.fit(X_train, Y_train,\n",
    "          epochs=1,batch_size=1000)"
   ]
  },
  {
   "cell_type": "code",
   "execution_count": 12,
   "metadata": {},
   "outputs": [
    {
     "name": "stdout",
     "output_type": "stream",
     "text": [
      "Model: \"model_3\"\n",
      "_________________________________________________________________\n",
      "Layer (type)                 Output Shape              Param #   \n",
      "=================================================================\n",
      "input_6 (InputLayer)         (None, 98)                0         \n",
      "_________________________________________________________________\n",
      "dense_15 (Dense)             (None, 25)                2475      \n",
      "_________________________________________________________________\n",
      "dense_16 (Dense)             (None, 25)                650       \n",
      "_________________________________________________________________\n",
      "dense_17 (Dense)             (None, 20)                520       \n",
      "_________________________________________________________________\n",
      "dense_18 (Dense)             (None, 1)                 21        \n",
      "=================================================================\n",
      "Total params: 3,666\n",
      "Trainable params: 3,666\n",
      "Non-trainable params: 0\n",
      "_________________________________________________________________\n",
      "None\n"
     ]
    },
    {
     "data": {
      "image/png": "[encoded data removed]",
      "text/plain": [
       "<IPython.core.display.Image object>"
      ]
     },
     "execution_count": 12,
     "metadata": {},
     "output_type": "execute_result"
    }
   ],
   "source": [
    "# Multilayer Perceptron\n",
    "from keras.utils import plot_model\n",
    "from keras.models import Model\n",
    "from keras.layers import Input\n",
    "from keras.layers import Dense\n",
    "visible = Input(shape=(98,))\n",
    "hidden1 = Dense(25, activation='relu')(visible)\n",
    "hidden2 = Dense(25, activation='relu')(hidden1)\n",
    "hidden3 = Dense(20, activation='relu')(hidden2)\n",
    "output = Dense(1, activation='sigmoid')(hidden3)\n",
    "model = Model(inputs=visible, outputs=output)\n",
    "# summarize layers\n",
    "print(model.summary())\n",
    "# plot graph\n",
    "plot_model(model, to_file='multilayer_perceptron_graph.png')"
   ]
  },
  {
   "cell_type": "code",
   "execution_count": 1,
   "metadata": {},
   "outputs": [
    {
     "ename": "NameError",
     "evalue": "name 'model' is not defined",
     "output_type": "error",
     "traceback": [
      "\u001b[1;31m---------------------------------------------------------------------------\u001b[0m",
      "\u001b[1;31mNameError\u001b[0m                                 Traceback (most recent call last)",
      "\u001b[1;32m<ipython-input-1-96577c19e003>\u001b[0m in \u001b[0;36m<module>\u001b[1;34m\u001b[0m\n\u001b[1;32m----> 1\u001b[1;33m model.compile(optimizer='adam',\n\u001b[0m\u001b[0;32m      2\u001b[0m             \u001b[0mloss\u001b[0m\u001b[1;33m=\u001b[0m\u001b[1;34m'binary_crossentropy'\u001b[0m\u001b[1;33m,\u001b[0m\u001b[1;33m\u001b[0m\u001b[1;33m\u001b[0m\u001b[0m\n\u001b[0;32m      3\u001b[0m               metrics=['accuracy'])\n\u001b[0;32m      4\u001b[0m model.fit(X_train, Y_train,\n\u001b[0;32m      5\u001b[0m           epochs=1000,batch_size=500)\n",
      "\u001b[1;31mNameError\u001b[0m: name 'model' is not defined"
     ]
    }
   ],
   "source": [
    "model.compile(optimizer='adam',\n",
    "            loss='binary_crossentropy',\n",
    "              metrics=['accuracy'])\n",
    "model.fit(X_train, Y_train,\n",
    "          epochs=1000,batch_size=500)"
   ]
  },
  {
   "cell_type": "code",
   "execution_count": 14,
   "metadata": {},
   "outputs": [
    {
     "name": "stdout",
     "output_type": "stream",
     "text": [
      "20000/20000 [==============================] - ETA: 2: - ETA: 2s - ETA:  - ETA:  - ETA:  - ETA:  - ETA:  - 1s 32us/step\n",
      "Accuracy: 61.72\n"
     ]
    }
   ],
   "source": [
    "_, accuracy = model.evaluate(X_test, Y_test)\n",
    "print('Accuracy: %.2f' % (accuracy*100))"
   ]
  },
  {
   "cell_type": "code",
   "execution_count": null,
   "metadata": {},
   "outputs": [],
   "source": []
  }
 ],
 "metadata": {
  "kernelspec": {
   "display_name": "Python 3",
   "language": "python",
   "name": "python3"
  },
  "language_info": {
   "codemirror_mode": {
    "name": "ipython",
    "version": 3
   },
   "file_extension": ".py",
   "mimetype": "text/x-python",
   "name": "python",
   "nbconvert_exporter": "python",
   "pygments_lexer": "ipython3",
   "version": "3.7.4"
  }
 },
 "nbformat": 4,
 "nbformat_minor": 2
}
