{
 "cells": [
  {
   "cell_type": "code",
   "execution_count": 1,
   "metadata": {},
   "outputs": [],
   "source": [
    "import numpy as np # linear algebra\n",
    "import pandas as pd # data processing, CSV file I/O (e.g. pd.read_csv)\n",
    "import matplotlib.pyplot as plt\n",
    "import seaborn as sns # For creating plots\n",
    "import os"
   ]
  },
  {
   "cell_type": "code",
   "execution_count": 2,
   "metadata": {},
   "outputs": [],
   "source": [
    "os.chdir('C:\\\\Users\\\\s114sing\\\\OneDrive - Nokia\\\\Training Material\\\\Hackathon\\\\telecom-customer')"
   ]
  },
  {
   "cell_type": "code",
   "execution_count": 3,
   "metadata": {},
   "outputs": [],
   "source": [
    "data = pd.read_csv('Telecom_customer churn.csv')"
   ]
  },
  {
   "cell_type": "code",
   "execution_count": 4,
   "metadata": {},
   "outputs": [
    {
     "data": {
      "text/plain": [
       "rev_Mean       float64\n",
       "mou_Mean       float64\n",
       "totmrc_Mean    float64\n",
       "da_Mean        float64\n",
       "ovrmou_Mean    float64\n",
       "                ...   \n",
       "kid11_15        object\n",
       "kid16_17        object\n",
       "creditcd        object\n",
       "eqpdays        float64\n",
       "Customer_ID      int64\n",
       "Length: 100, dtype: object"
      ]
     },
     "execution_count": 4,
     "metadata": {},
     "output_type": "execute_result"
    }
   ],
   "source": [
    "data.dtypes"
   ]
  },
  {
   "cell_type": "code",
   "execution_count": 5,
   "metadata": {},
   "outputs": [
    {
     "data": {
      "text/html": [
       "<div>\n",
       "<style scoped>\n",
       "    .dataframe tbody tr th:only-of-type {\n",
       "        vertical-align: middle;\n",
       "    }\n",
       "\n",
       "    .dataframe tbody tr th {\n",
       "        vertical-align: top;\n",
       "    }\n",
       "\n",
       "    .dataframe thead th {\n",
       "        text-align: right;\n",
       "    }\n",
       "</style>\n",
       "<table border=\"1\" class=\"dataframe\">\n",
       "  <thead>\n",
       "    <tr style=\"text-align: right;\">\n",
       "      <th></th>\n",
       "      <th>rev_Mean</th>\n",
       "      <th>mou_Mean</th>\n",
       "      <th>totmrc_Mean</th>\n",
       "      <th>da_Mean</th>\n",
       "      <th>ovrmou_Mean</th>\n",
       "      <th>ovrrev_Mean</th>\n",
       "      <th>vceovr_Mean</th>\n",
       "      <th>datovr_Mean</th>\n",
       "      <th>roam_Mean</th>\n",
       "      <th>change_mou</th>\n",
       "      <th>...</th>\n",
       "      <th>models</th>\n",
       "      <th>truck</th>\n",
       "      <th>rv</th>\n",
       "      <th>lor</th>\n",
       "      <th>adults</th>\n",
       "      <th>income</th>\n",
       "      <th>numbcars</th>\n",
       "      <th>forgntvl</th>\n",
       "      <th>eqpdays</th>\n",
       "      <th>Customer_ID</th>\n",
       "    </tr>\n",
       "  </thead>\n",
       "  <tbody>\n",
       "    <tr>\n",
       "      <td>count</td>\n",
       "      <td>99643.000000</td>\n",
       "      <td>99643.000000</td>\n",
       "      <td>99643.000000</td>\n",
       "      <td>99643.000000</td>\n",
       "      <td>99643.000000</td>\n",
       "      <td>99643.000000</td>\n",
       "      <td>99643.000000</td>\n",
       "      <td>99643.000000</td>\n",
       "      <td>99643.000000</td>\n",
       "      <td>99109.000000</td>\n",
       "      <td>...</td>\n",
       "      <td>99999.000000</td>\n",
       "      <td>98268.000000</td>\n",
       "      <td>98268.000000</td>\n",
       "      <td>69810.000000</td>\n",
       "      <td>76981.000000</td>\n",
       "      <td>74564.000000</td>\n",
       "      <td>50634.000000</td>\n",
       "      <td>98268.000000</td>\n",
       "      <td>99999.000000</td>\n",
       "      <td>1.000000e+05</td>\n",
       "    </tr>\n",
       "    <tr>\n",
       "      <td>mean</td>\n",
       "      <td>58.719985</td>\n",
       "      <td>513.559937</td>\n",
       "      <td>46.179136</td>\n",
       "      <td>0.888828</td>\n",
       "      <td>41.072247</td>\n",
       "      <td>13.559560</td>\n",
       "      <td>13.295062</td>\n",
       "      <td>0.261318</td>\n",
       "      <td>1.286405</td>\n",
       "      <td>-13.933818</td>\n",
       "      <td>...</td>\n",
       "      <td>1.545825</td>\n",
       "      <td>0.188820</td>\n",
       "      <td>0.082580</td>\n",
       "      <td>6.177238</td>\n",
       "      <td>2.530326</td>\n",
       "      <td>5.783112</td>\n",
       "      <td>1.567563</td>\n",
       "      <td>0.057974</td>\n",
       "      <td>391.932309</td>\n",
       "      <td>1.050000e+06</td>\n",
       "    </tr>\n",
       "    <tr>\n",
       "      <td>std</td>\n",
       "      <td>46.291677</td>\n",
       "      <td>525.168140</td>\n",
       "      <td>23.623489</td>\n",
       "      <td>2.177619</td>\n",
       "      <td>97.296150</td>\n",
       "      <td>30.500885</td>\n",
       "      <td>30.056089</td>\n",
       "      <td>3.126531</td>\n",
       "      <td>14.711374</td>\n",
       "      <td>276.087509</td>\n",
       "      <td>...</td>\n",
       "      <td>0.898395</td>\n",
       "      <td>0.391368</td>\n",
       "      <td>0.275248</td>\n",
       "      <td>4.735267</td>\n",
       "      <td>1.452819</td>\n",
       "      <td>2.182132</td>\n",
       "      <td>0.625456</td>\n",
       "      <td>0.233696</td>\n",
       "      <td>256.482193</td>\n",
       "      <td>2.886766e+04</td>\n",
       "    </tr>\n",
       "    <tr>\n",
       "      <td>min</td>\n",
       "      <td>-6.167500</td>\n",
       "      <td>0.000000</td>\n",
       "      <td>-26.915000</td>\n",
       "      <td>0.000000</td>\n",
       "      <td>0.000000</td>\n",
       "      <td>0.000000</td>\n",
       "      <td>0.000000</td>\n",
       "      <td>0.000000</td>\n",
       "      <td>0.000000</td>\n",
       "      <td>-3875.000000</td>\n",
       "      <td>...</td>\n",
       "      <td>1.000000</td>\n",
       "      <td>0.000000</td>\n",
       "      <td>0.000000</td>\n",
       "      <td>0.000000</td>\n",
       "      <td>1.000000</td>\n",
       "      <td>1.000000</td>\n",
       "      <td>1.000000</td>\n",
       "      <td>0.000000</td>\n",
       "      <td>-5.000000</td>\n",
       "      <td>1.000001e+06</td>\n",
       "    </tr>\n",
       "    <tr>\n",
       "      <td>25%</td>\n",
       "      <td>33.260000</td>\n",
       "      <td>150.750000</td>\n",
       "      <td>30.000000</td>\n",
       "      <td>0.000000</td>\n",
       "      <td>0.000000</td>\n",
       "      <td>0.000000</td>\n",
       "      <td>0.000000</td>\n",
       "      <td>0.000000</td>\n",
       "      <td>0.000000</td>\n",
       "      <td>-87.000000</td>\n",
       "      <td>...</td>\n",
       "      <td>1.000000</td>\n",
       "      <td>0.000000</td>\n",
       "      <td>0.000000</td>\n",
       "      <td>2.000000</td>\n",
       "      <td>1.000000</td>\n",
       "      <td>4.000000</td>\n",
       "      <td>1.000000</td>\n",
       "      <td>0.000000</td>\n",
       "      <td>212.000000</td>\n",
       "      <td>1.025001e+06</td>\n",
       "    </tr>\n",
       "    <tr>\n",
       "      <td>50%</td>\n",
       "      <td>48.195000</td>\n",
       "      <td>355.500000</td>\n",
       "      <td>44.990000</td>\n",
       "      <td>0.247500</td>\n",
       "      <td>2.750000</td>\n",
       "      <td>1.000000</td>\n",
       "      <td>0.682500</td>\n",
       "      <td>0.000000</td>\n",
       "      <td>0.000000</td>\n",
       "      <td>-6.250000</td>\n",
       "      <td>...</td>\n",
       "      <td>1.000000</td>\n",
       "      <td>0.000000</td>\n",
       "      <td>0.000000</td>\n",
       "      <td>5.000000</td>\n",
       "      <td>2.000000</td>\n",
       "      <td>6.000000</td>\n",
       "      <td>1.000000</td>\n",
       "      <td>0.000000</td>\n",
       "      <td>342.000000</td>\n",
       "      <td>1.050000e+06</td>\n",
       "    </tr>\n",
       "    <tr>\n",
       "      <td>75%</td>\n",
       "      <td>70.750000</td>\n",
       "      <td>703.000000</td>\n",
       "      <td>59.990000</td>\n",
       "      <td>0.990000</td>\n",
       "      <td>42.000000</td>\n",
       "      <td>14.437500</td>\n",
       "      <td>14.025000</td>\n",
       "      <td>0.000000</td>\n",
       "      <td>0.235000</td>\n",
       "      <td>63.000000</td>\n",
       "      <td>...</td>\n",
       "      <td>2.000000</td>\n",
       "      <td>0.000000</td>\n",
       "      <td>0.000000</td>\n",
       "      <td>9.000000</td>\n",
       "      <td>3.000000</td>\n",
       "      <td>7.000000</td>\n",
       "      <td>2.000000</td>\n",
       "      <td>0.000000</td>\n",
       "      <td>530.000000</td>\n",
       "      <td>1.075000e+06</td>\n",
       "    </tr>\n",
       "    <tr>\n",
       "      <td>max</td>\n",
       "      <td>3843.262500</td>\n",
       "      <td>12206.750000</td>\n",
       "      <td>409.990000</td>\n",
       "      <td>159.390000</td>\n",
       "      <td>4320.750000</td>\n",
       "      <td>1102.400000</td>\n",
       "      <td>896.087500</td>\n",
       "      <td>423.540000</td>\n",
       "      <td>3685.200000</td>\n",
       "      <td>31219.250000</td>\n",
       "      <td>...</td>\n",
       "      <td>16.000000</td>\n",
       "      <td>1.000000</td>\n",
       "      <td>1.000000</td>\n",
       "      <td>15.000000</td>\n",
       "      <td>6.000000</td>\n",
       "      <td>9.000000</td>\n",
       "      <td>3.000000</td>\n",
       "      <td>1.000000</td>\n",
       "      <td>1823.000000</td>\n",
       "      <td>1.100000e+06</td>\n",
       "    </tr>\n",
       "  </tbody>\n",
       "</table>\n",
       "<p>8 rows × 79 columns</p>\n",
       "</div>"
      ],
      "text/plain": [
       "           rev_Mean      mou_Mean   totmrc_Mean       da_Mean   ovrmou_Mean  \\\n",
       "count  99643.000000  99643.000000  99643.000000  99643.000000  99643.000000   \n",
       "mean      58.719985    513.559937     46.179136      0.888828     41.072247   \n",
       "std       46.291677    525.168140     23.623489      2.177619     97.296150   \n",
       "min       -6.167500      0.000000    -26.915000      0.000000      0.000000   \n",
       "25%       33.260000    150.750000     30.000000      0.000000      0.000000   \n",
       "50%       48.195000    355.500000     44.990000      0.247500      2.750000   \n",
       "75%       70.750000    703.000000     59.990000      0.990000     42.000000   \n",
       "max     3843.262500  12206.750000    409.990000    159.390000   4320.750000   \n",
       "\n",
       "        ovrrev_Mean   vceovr_Mean   datovr_Mean     roam_Mean    change_mou  \\\n",
       "count  99643.000000  99643.000000  99643.000000  99643.000000  99109.000000   \n",
       "mean      13.559560     13.295062      0.261318      1.286405    -13.933818   \n",
       "std       30.500885     30.056089      3.126531     14.711374    276.087509   \n",
       "min        0.000000      0.000000      0.000000      0.000000  -3875.000000   \n",
       "25%        0.000000      0.000000      0.000000      0.000000    -87.000000   \n",
       "50%        1.000000      0.682500      0.000000      0.000000     -6.250000   \n",
       "75%       14.437500     14.025000      0.000000      0.235000     63.000000   \n",
       "max     1102.400000    896.087500    423.540000   3685.200000  31219.250000   \n",
       "\n",
       "       ...        models         truck            rv           lor  \\\n",
       "count  ...  99999.000000  98268.000000  98268.000000  69810.000000   \n",
       "mean   ...      1.545825      0.188820      0.082580      6.177238   \n",
       "std    ...      0.898395      0.391368      0.275248      4.735267   \n",
       "min    ...      1.000000      0.000000      0.000000      0.000000   \n",
       "25%    ...      1.000000      0.000000      0.000000      2.000000   \n",
       "50%    ...      1.000000      0.000000      0.000000      5.000000   \n",
       "75%    ...      2.000000      0.000000      0.000000      9.000000   \n",
       "max    ...     16.000000      1.000000      1.000000     15.000000   \n",
       "\n",
       "             adults        income      numbcars      forgntvl       eqpdays  \\\n",
       "count  76981.000000  74564.000000  50634.000000  98268.000000  99999.000000   \n",
       "mean       2.530326      5.783112      1.567563      0.057974    391.932309   \n",
       "std        1.452819      2.182132      0.625456      0.233696    256.482193   \n",
       "min        1.000000      1.000000      1.000000      0.000000     -5.000000   \n",
       "25%        1.000000      4.000000      1.000000      0.000000    212.000000   \n",
       "50%        2.000000      6.000000      1.000000      0.000000    342.000000   \n",
       "75%        3.000000      7.000000      2.000000      0.000000    530.000000   \n",
       "max        6.000000      9.000000      3.000000      1.000000   1823.000000   \n",
       "\n",
       "        Customer_ID  \n",
       "count  1.000000e+05  \n",
       "mean   1.050000e+06  \n",
       "std    2.886766e+04  \n",
       "min    1.000001e+06  \n",
       "25%    1.025001e+06  \n",
       "50%    1.050000e+06  \n",
       "75%    1.075000e+06  \n",
       "max    1.100000e+06  \n",
       "\n",
       "[8 rows x 79 columns]"
      ]
     },
     "execution_count": 5,
     "metadata": {},
     "output_type": "execute_result"
    }
   ],
   "source": [
    "data.describe(include = [np.number])"
   ]
  },
  {
   "cell_type": "code",
   "execution_count": null,
   "metadata": {},
   "outputs": [],
   "source": []
  },
  {
   "cell_type": "code",
   "execution_count": 6,
   "metadata": {},
   "outputs": [
    {
     "name": "stdout",
     "output_type": "stream",
     "text": [
      "['rev_Mean', 'mou_Mean', 'totmrc_Mean', 'da_Mean', 'ovrmou_Mean', 'ovrrev_Mean', 'vceovr_Mean', 'datovr_Mean', 'roam_Mean', 'change_mou', 'change_rev', 'drop_vce_Mean', 'drop_dat_Mean', 'blck_vce_Mean', 'blck_dat_Mean', 'unan_vce_Mean', 'unan_dat_Mean', 'plcd_vce_Mean', 'plcd_dat_Mean', 'recv_vce_Mean', 'recv_sms_Mean', 'comp_vce_Mean', 'comp_dat_Mean', 'custcare_Mean', 'ccrndmou_Mean', 'cc_mou_Mean', 'inonemin_Mean', 'threeway_Mean', 'mou_cvce_Mean', 'mou_cdat_Mean', 'mou_rvce_Mean', 'owylis_vce_Mean', 'mouowylisv_Mean', 'iwylis_vce_Mean', 'mouiwylisv_Mean', 'peak_vce_Mean', 'peak_dat_Mean', 'mou_peav_Mean', 'mou_pead_Mean', 'opk_vce_Mean', 'opk_dat_Mean', 'mou_opkv_Mean', 'mou_opkd_Mean', 'drop_blk_Mean', 'attempt_Mean', 'complete_Mean', 'callfwdv_Mean', 'callwait_Mean', 'churn', 'months', 'uniqsubs', 'actvsubs', 'totcalls', 'totmou', 'totrev', 'adjrev', 'adjmou', 'adjqty', 'avgrev', 'avgmou', 'avgqty', 'avg3mou', 'avg3qty', 'avg3rev', 'avg6mou', 'avg6qty', 'avg6rev', 'hnd_price', 'phones', 'models', 'truck', 'rv', 'lor', 'adults', 'income', 'numbcars', 'forgntvl', 'eqpdays', 'Customer_ID']\n"
     ]
    }
   ],
   "source": [
    "col = list (data.describe(include = [np.number]))\n",
    "print (col)"
   ]
  },
  {
   "cell_type": "code",
   "execution_count": 7,
   "metadata": {},
   "outputs": [],
   "source": [
    "for i in col:\n",
    "    #iterating to all coloumns\n",
    "   data.loc[pd.isnull(data[i]),i] = np.mean(data[i])"
   ]
  },
  {
   "cell_type": "code",
   "execution_count": 8,
   "metadata": {},
   "outputs": [
    {
     "data": {
      "text/html": [
       "<div>\n",
       "<style scoped>\n",
       "    .dataframe tbody tr th:only-of-type {\n",
       "        vertical-align: middle;\n",
       "    }\n",
       "\n",
       "    .dataframe tbody tr th {\n",
       "        vertical-align: top;\n",
       "    }\n",
       "\n",
       "    .dataframe thead th {\n",
       "        text-align: right;\n",
       "    }\n",
       "</style>\n",
       "<table border=\"1\" class=\"dataframe\">\n",
       "  <thead>\n",
       "    <tr style=\"text-align: right;\">\n",
       "      <th></th>\n",
       "      <th>rev_Mean</th>\n",
       "      <th>mou_Mean</th>\n",
       "      <th>totmrc_Mean</th>\n",
       "      <th>da_Mean</th>\n",
       "      <th>ovrmou_Mean</th>\n",
       "      <th>ovrrev_Mean</th>\n",
       "      <th>vceovr_Mean</th>\n",
       "      <th>datovr_Mean</th>\n",
       "      <th>roam_Mean</th>\n",
       "      <th>change_mou</th>\n",
       "      <th>...</th>\n",
       "      <th>models</th>\n",
       "      <th>truck</th>\n",
       "      <th>rv</th>\n",
       "      <th>lor</th>\n",
       "      <th>adults</th>\n",
       "      <th>income</th>\n",
       "      <th>numbcars</th>\n",
       "      <th>forgntvl</th>\n",
       "      <th>eqpdays</th>\n",
       "      <th>Customer_ID</th>\n",
       "    </tr>\n",
       "  </thead>\n",
       "  <tbody>\n",
       "    <tr>\n",
       "      <td>count</td>\n",
       "      <td>100000.000000</td>\n",
       "      <td>100000.000000</td>\n",
       "      <td>100000.000000</td>\n",
       "      <td>100000.000000</td>\n",
       "      <td>100000.000000</td>\n",
       "      <td>100000.000000</td>\n",
       "      <td>100000.000000</td>\n",
       "      <td>100000.000000</td>\n",
       "      <td>100000.000000</td>\n",
       "      <td>100000.000000</td>\n",
       "      <td>...</td>\n",
       "      <td>100000.000000</td>\n",
       "      <td>100000.000000</td>\n",
       "      <td>100000.000000</td>\n",
       "      <td>100000.000000</td>\n",
       "      <td>100000.000000</td>\n",
       "      <td>100000.000000</td>\n",
       "      <td>100000.000000</td>\n",
       "      <td>100000.000000</td>\n",
       "      <td>100000.000000</td>\n",
       "      <td>1.000000e+05</td>\n",
       "    </tr>\n",
       "    <tr>\n",
       "      <td>mean</td>\n",
       "      <td>58.719985</td>\n",
       "      <td>513.559937</td>\n",
       "      <td>46.179136</td>\n",
       "      <td>0.888828</td>\n",
       "      <td>41.072247</td>\n",
       "      <td>13.559560</td>\n",
       "      <td>13.295062</td>\n",
       "      <td>0.261318</td>\n",
       "      <td>1.286405</td>\n",
       "      <td>-13.933818</td>\n",
       "      <td>...</td>\n",
       "      <td>1.545825</td>\n",
       "      <td>0.188820</td>\n",
       "      <td>0.082580</td>\n",
       "      <td>6.177238</td>\n",
       "      <td>2.530326</td>\n",
       "      <td>5.783112</td>\n",
       "      <td>1.567563</td>\n",
       "      <td>0.057974</td>\n",
       "      <td>391.932309</td>\n",
       "      <td>1.050000e+06</td>\n",
       "    </tr>\n",
       "    <tr>\n",
       "      <td>std</td>\n",
       "      <td>46.208972</td>\n",
       "      <td>524.229868</td>\n",
       "      <td>23.581283</td>\n",
       "      <td>2.173729</td>\n",
       "      <td>97.122320</td>\n",
       "      <td>30.446392</td>\n",
       "      <td>30.002391</td>\n",
       "      <td>3.120946</td>\n",
       "      <td>14.685090</td>\n",
       "      <td>274.854774</td>\n",
       "      <td>...</td>\n",
       "      <td>0.898391</td>\n",
       "      <td>0.387964</td>\n",
       "      <td>0.272854</td>\n",
       "      <td>3.956420</td>\n",
       "      <td>1.274685</td>\n",
       "      <td>1.884277</td>\n",
       "      <td>0.445057</td>\n",
       "      <td>0.231663</td>\n",
       "      <td>256.480910</td>\n",
       "      <td>2.886766e+04</td>\n",
       "    </tr>\n",
       "    <tr>\n",
       "      <td>min</td>\n",
       "      <td>-6.167500</td>\n",
       "      <td>0.000000</td>\n",
       "      <td>-26.915000</td>\n",
       "      <td>0.000000</td>\n",
       "      <td>0.000000</td>\n",
       "      <td>0.000000</td>\n",
       "      <td>0.000000</td>\n",
       "      <td>0.000000</td>\n",
       "      <td>0.000000</td>\n",
       "      <td>-3875.000000</td>\n",
       "      <td>...</td>\n",
       "      <td>1.000000</td>\n",
       "      <td>0.000000</td>\n",
       "      <td>0.000000</td>\n",
       "      <td>0.000000</td>\n",
       "      <td>1.000000</td>\n",
       "      <td>1.000000</td>\n",
       "      <td>1.000000</td>\n",
       "      <td>0.000000</td>\n",
       "      <td>-5.000000</td>\n",
       "      <td>1.000001e+06</td>\n",
       "    </tr>\n",
       "    <tr>\n",
       "      <td>25%</td>\n",
       "      <td>33.311875</td>\n",
       "      <td>151.500000</td>\n",
       "      <td>30.000000</td>\n",
       "      <td>0.000000</td>\n",
       "      <td>0.000000</td>\n",
       "      <td>0.000000</td>\n",
       "      <td>0.000000</td>\n",
       "      <td>0.000000</td>\n",
       "      <td>0.000000</td>\n",
       "      <td>-86.000000</td>\n",
       "      <td>...</td>\n",
       "      <td>1.000000</td>\n",
       "      <td>0.000000</td>\n",
       "      <td>0.000000</td>\n",
       "      <td>3.000000</td>\n",
       "      <td>2.000000</td>\n",
       "      <td>5.000000</td>\n",
       "      <td>1.000000</td>\n",
       "      <td>0.000000</td>\n",
       "      <td>212.000000</td>\n",
       "      <td>1.025001e+06</td>\n",
       "    </tr>\n",
       "    <tr>\n",
       "      <td>50%</td>\n",
       "      <td>48.377500</td>\n",
       "      <td>357.500000</td>\n",
       "      <td>44.990000</td>\n",
       "      <td>0.247500</td>\n",
       "      <td>3.000000</td>\n",
       "      <td>1.050000</td>\n",
       "      <td>0.700000</td>\n",
       "      <td>0.000000</td>\n",
       "      <td>0.000000</td>\n",
       "      <td>-7.000000</td>\n",
       "      <td>...</td>\n",
       "      <td>1.000000</td>\n",
       "      <td>0.000000</td>\n",
       "      <td>0.000000</td>\n",
       "      <td>6.177238</td>\n",
       "      <td>2.530326</td>\n",
       "      <td>5.783112</td>\n",
       "      <td>1.567563</td>\n",
       "      <td>0.000000</td>\n",
       "      <td>342.000000</td>\n",
       "      <td>1.050000e+06</td>\n",
       "    </tr>\n",
       "    <tr>\n",
       "      <td>75%</td>\n",
       "      <td>70.630000</td>\n",
       "      <td>701.250000</td>\n",
       "      <td>59.990000</td>\n",
       "      <td>0.888828</td>\n",
       "      <td>42.000000</td>\n",
       "      <td>14.350000</td>\n",
       "      <td>13.950000</td>\n",
       "      <td>0.000000</td>\n",
       "      <td>0.257500</td>\n",
       "      <td>61.750000</td>\n",
       "      <td>...</td>\n",
       "      <td>2.000000</td>\n",
       "      <td>0.000000</td>\n",
       "      <td>0.000000</td>\n",
       "      <td>7.000000</td>\n",
       "      <td>3.000000</td>\n",
       "      <td>7.000000</td>\n",
       "      <td>2.000000</td>\n",
       "      <td>0.000000</td>\n",
       "      <td>530.000000</td>\n",
       "      <td>1.075000e+06</td>\n",
       "    </tr>\n",
       "    <tr>\n",
       "      <td>max</td>\n",
       "      <td>3843.262500</td>\n",
       "      <td>12206.750000</td>\n",
       "      <td>409.990000</td>\n",
       "      <td>159.390000</td>\n",
       "      <td>4320.750000</td>\n",
       "      <td>1102.400000</td>\n",
       "      <td>896.087500</td>\n",
       "      <td>423.540000</td>\n",
       "      <td>3685.200000</td>\n",
       "      <td>31219.250000</td>\n",
       "      <td>...</td>\n",
       "      <td>16.000000</td>\n",
       "      <td>1.000000</td>\n",
       "      <td>1.000000</td>\n",
       "      <td>15.000000</td>\n",
       "      <td>6.000000</td>\n",
       "      <td>9.000000</td>\n",
       "      <td>3.000000</td>\n",
       "      <td>1.000000</td>\n",
       "      <td>1823.000000</td>\n",
       "      <td>1.100000e+06</td>\n",
       "    </tr>\n",
       "  </tbody>\n",
       "</table>\n",
       "<p>8 rows × 79 columns</p>\n",
       "</div>"
      ],
      "text/plain": [
       "            rev_Mean       mou_Mean    totmrc_Mean        da_Mean  \\\n",
       "count  100000.000000  100000.000000  100000.000000  100000.000000   \n",
       "mean       58.719985     513.559937      46.179136       0.888828   \n",
       "std        46.208972     524.229868      23.581283       2.173729   \n",
       "min        -6.167500       0.000000     -26.915000       0.000000   \n",
       "25%        33.311875     151.500000      30.000000       0.000000   \n",
       "50%        48.377500     357.500000      44.990000       0.247500   \n",
       "75%        70.630000     701.250000      59.990000       0.888828   \n",
       "max      3843.262500   12206.750000     409.990000     159.390000   \n",
       "\n",
       "         ovrmou_Mean    ovrrev_Mean    vceovr_Mean    datovr_Mean  \\\n",
       "count  100000.000000  100000.000000  100000.000000  100000.000000   \n",
       "mean       41.072247      13.559560      13.295062       0.261318   \n",
       "std        97.122320      30.446392      30.002391       3.120946   \n",
       "min         0.000000       0.000000       0.000000       0.000000   \n",
       "25%         0.000000       0.000000       0.000000       0.000000   \n",
       "50%         3.000000       1.050000       0.700000       0.000000   \n",
       "75%        42.000000      14.350000      13.950000       0.000000   \n",
       "max      4320.750000    1102.400000     896.087500     423.540000   \n",
       "\n",
       "           roam_Mean     change_mou  ...         models          truck  \\\n",
       "count  100000.000000  100000.000000  ...  100000.000000  100000.000000   \n",
       "mean        1.286405     -13.933818  ...       1.545825       0.188820   \n",
       "std        14.685090     274.854774  ...       0.898391       0.387964   \n",
       "min         0.000000   -3875.000000  ...       1.000000       0.000000   \n",
       "25%         0.000000     -86.000000  ...       1.000000       0.000000   \n",
       "50%         0.000000      -7.000000  ...       1.000000       0.000000   \n",
       "75%         0.257500      61.750000  ...       2.000000       0.000000   \n",
       "max      3685.200000   31219.250000  ...      16.000000       1.000000   \n",
       "\n",
       "                  rv            lor         adults         income  \\\n",
       "count  100000.000000  100000.000000  100000.000000  100000.000000   \n",
       "mean        0.082580       6.177238       2.530326       5.783112   \n",
       "std         0.272854       3.956420       1.274685       1.884277   \n",
       "min         0.000000       0.000000       1.000000       1.000000   \n",
       "25%         0.000000       3.000000       2.000000       5.000000   \n",
       "50%         0.000000       6.177238       2.530326       5.783112   \n",
       "75%         0.000000       7.000000       3.000000       7.000000   \n",
       "max         1.000000      15.000000       6.000000       9.000000   \n",
       "\n",
       "            numbcars       forgntvl        eqpdays   Customer_ID  \n",
       "count  100000.000000  100000.000000  100000.000000  1.000000e+05  \n",
       "mean        1.567563       0.057974     391.932309  1.050000e+06  \n",
       "std         0.445057       0.231663     256.480910  2.886766e+04  \n",
       "min         1.000000       0.000000      -5.000000  1.000001e+06  \n",
       "25%         1.000000       0.000000     212.000000  1.025001e+06  \n",
       "50%         1.567563       0.000000     342.000000  1.050000e+06  \n",
       "75%         2.000000       0.000000     530.000000  1.075000e+06  \n",
       "max         3.000000       1.000000    1823.000000  1.100000e+06  \n",
       "\n",
       "[8 rows x 79 columns]"
      ]
     },
     "execution_count": 8,
     "metadata": {},
     "output_type": "execute_result"
    }
   ],
   "source": [
    "data.describe(include = [np.number])"
   ]
  },
  {
   "cell_type": "code",
   "execution_count": 9,
   "metadata": {},
   "outputs": [
    {
     "data": {
      "text/plain": [
       "rev_Mean       float64\n",
       "mou_Mean       float64\n",
       "totmrc_Mean    float64\n",
       "da_Mean        float64\n",
       "ovrmou_Mean    float64\n",
       "                ...   \n",
       "kid11_15        object\n",
       "kid16_17        object\n",
       "creditcd        object\n",
       "eqpdays        float64\n",
       "Customer_ID    float64\n",
       "Length: 100, dtype: object"
      ]
     },
     "execution_count": 9,
     "metadata": {},
     "output_type": "execute_result"
    }
   ],
   "source": [
    "data.dtypes"
   ]
  },
  {
   "cell_type": "code",
   "execution_count": 10,
   "metadata": {},
   "outputs": [],
   "source": [
    "data.describe(include ='O')\n",
    "obj_col = list(data.describe(include ='O'))"
   ]
  },
  {
   "cell_type": "code",
   "execution_count": 11,
   "metadata": {},
   "outputs": [],
   "source": [
    "for i in obj_col:\n",
    "    #Dropping non number columns\n",
    "    data= data.drop([i],axis=1)"
   ]
  },
  {
   "cell_type": "code",
   "execution_count": 12,
   "metadata": {},
   "outputs": [
    {
     "name": "stdout",
     "output_type": "stream",
     "text": [
      "        rev_Mean    mou_Mean  totmrc_Mean   da_Mean  ovrmou_Mean  ovrrev_Mean  \\\n",
      "0      23.997500  219.250000    22.500000  0.247500     0.000000      0.00000   \n",
      "1      57.492500  482.750000    37.425000  0.247500    22.750000      9.10000   \n",
      "2      16.990000   10.250000    16.990000  0.000000     0.000000      0.00000   \n",
      "3      38.000000    7.500000    38.000000  0.000000     0.000000      0.00000   \n",
      "4      55.230000  570.500000    71.980000  0.000000     0.000000      0.00000   \n",
      "...          ...         ...          ...       ...          ...          ...   \n",
      "99995  58.719985  513.559937    46.179136  0.888828    41.072247     13.55956   \n",
      "99996  58.719985  513.559937    46.179136  0.888828    41.072247     13.55956   \n",
      "99997  58.719985  513.559937    46.179136  0.888828    41.072247     13.55956   \n",
      "99998  58.719985  513.559937    46.179136  0.888828    41.072247     13.55956   \n",
      "99999  58.719985  513.559937    46.179136  0.888828    41.072247     13.55956   \n",
      "\n",
      "       vceovr_Mean  datovr_Mean  roam_Mean  change_mou  ...  models  truck  \\\n",
      "0         0.000000     0.000000   0.000000 -157.250000  ...     2.0    0.0   \n",
      "1         9.100000     0.000000   0.000000  532.250000  ...     6.0    1.0   \n",
      "2         0.000000     0.000000   0.000000   -4.250000  ...     1.0    0.0   \n",
      "3         0.000000     0.000000   0.000000   -1.500000  ...     1.0    0.0   \n",
      "4         0.000000     0.000000   0.000000   38.500000  ...     4.0    0.0   \n",
      "...            ...          ...        ...         ...  ...     ...    ...   \n",
      "99995    13.295062     0.261318   1.286405  -13.933818  ...     1.0    0.0   \n",
      "99996    13.295062     0.261318   1.286405  -13.933818  ...     1.0    0.0   \n",
      "99997    13.295062     0.261318   1.286405  -13.933818  ...     2.0    0.0   \n",
      "99998    13.295062     0.261318   1.286405  -13.933818  ...     5.0    0.0   \n",
      "99999    13.295062     0.261318   1.286405  -13.933818  ...     2.0    0.0   \n",
      "\n",
      "        rv        lor    adults    income  numbcars  forgntvl  eqpdays  \\\n",
      "0      0.0  15.000000  1.000000  4.000000  3.000000       0.0    361.0   \n",
      "1      1.0   1.000000  1.000000  5.000000  1.000000       0.0    240.0   \n",
      "2      0.0   7.000000  2.000000  5.000000  2.000000       0.0   1504.0   \n",
      "3      0.0   6.000000  4.000000  6.000000  1.000000       0.0   1812.0   \n",
      "4      0.0   5.000000  1.000000  6.000000  1.000000       0.0    434.0   \n",
      "...    ...        ...       ...       ...       ...       ...      ...   \n",
      "99995  0.0  15.000000  5.000000  4.000000  2.000000       0.0    773.0   \n",
      "99996  0.0   9.000000  3.000000  7.000000  2.000000       0.0    835.0   \n",
      "99997  0.0   6.177238  1.000000  9.000000  1.567563       0.0    433.0   \n",
      "99998  0.0   6.177238  2.530326  5.783112  1.567563       0.0     75.0   \n",
      "99999  0.0   2.000000  2.000000  4.000000  1.567563       0.0      5.0   \n",
      "\n",
      "       Customer_ID  \n",
      "0        1000001.0  \n",
      "1        1000002.0  \n",
      "2        1000003.0  \n",
      "3        1000004.0  \n",
      "4        1000005.0  \n",
      "...            ...  \n",
      "99995    1099996.0  \n",
      "99996    1099997.0  \n",
      "99997    1099998.0  \n",
      "99998    1099999.0  \n",
      "99999    1100000.0  \n",
      "\n",
      "[100000 rows x 79 columns]\n"
     ]
    }
   ],
   "source": [
    "print(data)"
   ]
  },
  {
   "cell_type": "code",
   "execution_count": 13,
   "metadata": {},
   "outputs": [
    {
     "data": {
      "text/html": [
       "<div>\n",
       "<style scoped>\n",
       "    .dataframe tbody tr th:only-of-type {\n",
       "        vertical-align: middle;\n",
       "    }\n",
       "\n",
       "    .dataframe tbody tr th {\n",
       "        vertical-align: top;\n",
       "    }\n",
       "\n",
       "    .dataframe thead th {\n",
       "        text-align: right;\n",
       "    }\n",
       "</style>\n",
       "<table border=\"1\" class=\"dataframe\">\n",
       "  <thead>\n",
       "    <tr style=\"text-align: right;\">\n",
       "      <th></th>\n",
       "      <th>rev_Mean</th>\n",
       "      <th>mou_Mean</th>\n",
       "      <th>totmrc_Mean</th>\n",
       "      <th>da_Mean</th>\n",
       "      <th>ovrmou_Mean</th>\n",
       "      <th>ovrrev_Mean</th>\n",
       "      <th>vceovr_Mean</th>\n",
       "      <th>datovr_Mean</th>\n",
       "      <th>roam_Mean</th>\n",
       "      <th>change_mou</th>\n",
       "      <th>...</th>\n",
       "      <th>models</th>\n",
       "      <th>truck</th>\n",
       "      <th>rv</th>\n",
       "      <th>lor</th>\n",
       "      <th>adults</th>\n",
       "      <th>income</th>\n",
       "      <th>numbcars</th>\n",
       "      <th>forgntvl</th>\n",
       "      <th>eqpdays</th>\n",
       "      <th>Customer_ID</th>\n",
       "    </tr>\n",
       "  </thead>\n",
       "  <tbody>\n",
       "    <tr>\n",
       "      <td>count</td>\n",
       "      <td>100000.000000</td>\n",
       "      <td>100000.000000</td>\n",
       "      <td>100000.000000</td>\n",
       "      <td>100000.000000</td>\n",
       "      <td>100000.000000</td>\n",
       "      <td>100000.000000</td>\n",
       "      <td>100000.000000</td>\n",
       "      <td>100000.000000</td>\n",
       "      <td>100000.000000</td>\n",
       "      <td>100000.000000</td>\n",
       "      <td>...</td>\n",
       "      <td>100000.000000</td>\n",
       "      <td>100000.000000</td>\n",
       "      <td>100000.000000</td>\n",
       "      <td>100000.000000</td>\n",
       "      <td>100000.000000</td>\n",
       "      <td>100000.000000</td>\n",
       "      <td>100000.000000</td>\n",
       "      <td>100000.000000</td>\n",
       "      <td>100000.000000</td>\n",
       "      <td>1.000000e+05</td>\n",
       "    </tr>\n",
       "    <tr>\n",
       "      <td>mean</td>\n",
       "      <td>58.719985</td>\n",
       "      <td>513.559937</td>\n",
       "      <td>46.179136</td>\n",
       "      <td>0.888828</td>\n",
       "      <td>41.072247</td>\n",
       "      <td>13.559560</td>\n",
       "      <td>13.295062</td>\n",
       "      <td>0.261318</td>\n",
       "      <td>1.286405</td>\n",
       "      <td>-13.933818</td>\n",
       "      <td>...</td>\n",
       "      <td>1.545825</td>\n",
       "      <td>0.188820</td>\n",
       "      <td>0.082580</td>\n",
       "      <td>6.177238</td>\n",
       "      <td>2.530326</td>\n",
       "      <td>5.783112</td>\n",
       "      <td>1.567563</td>\n",
       "      <td>0.057974</td>\n",
       "      <td>391.932309</td>\n",
       "      <td>1.050000e+06</td>\n",
       "    </tr>\n",
       "    <tr>\n",
       "      <td>std</td>\n",
       "      <td>46.208972</td>\n",
       "      <td>524.229868</td>\n",
       "      <td>23.581283</td>\n",
       "      <td>2.173729</td>\n",
       "      <td>97.122320</td>\n",
       "      <td>30.446392</td>\n",
       "      <td>30.002391</td>\n",
       "      <td>3.120946</td>\n",
       "      <td>14.685090</td>\n",
       "      <td>274.854774</td>\n",
       "      <td>...</td>\n",
       "      <td>0.898391</td>\n",
       "      <td>0.387964</td>\n",
       "      <td>0.272854</td>\n",
       "      <td>3.956420</td>\n",
       "      <td>1.274685</td>\n",
       "      <td>1.884277</td>\n",
       "      <td>0.445057</td>\n",
       "      <td>0.231663</td>\n",
       "      <td>256.480910</td>\n",
       "      <td>2.886766e+04</td>\n",
       "    </tr>\n",
       "    <tr>\n",
       "      <td>min</td>\n",
       "      <td>-6.167500</td>\n",
       "      <td>0.000000</td>\n",
       "      <td>-26.915000</td>\n",
       "      <td>0.000000</td>\n",
       "      <td>0.000000</td>\n",
       "      <td>0.000000</td>\n",
       "      <td>0.000000</td>\n",
       "      <td>0.000000</td>\n",
       "      <td>0.000000</td>\n",
       "      <td>-3875.000000</td>\n",
       "      <td>...</td>\n",
       "      <td>1.000000</td>\n",
       "      <td>0.000000</td>\n",
       "      <td>0.000000</td>\n",
       "      <td>0.000000</td>\n",
       "      <td>1.000000</td>\n",
       "      <td>1.000000</td>\n",
       "      <td>1.000000</td>\n",
       "      <td>0.000000</td>\n",
       "      <td>-5.000000</td>\n",
       "      <td>1.000001e+06</td>\n",
       "    </tr>\n",
       "    <tr>\n",
       "      <td>25%</td>\n",
       "      <td>33.311875</td>\n",
       "      <td>151.500000</td>\n",
       "      <td>30.000000</td>\n",
       "      <td>0.000000</td>\n",
       "      <td>0.000000</td>\n",
       "      <td>0.000000</td>\n",
       "      <td>0.000000</td>\n",
       "      <td>0.000000</td>\n",
       "      <td>0.000000</td>\n",
       "      <td>-86.000000</td>\n",
       "      <td>...</td>\n",
       "      <td>1.000000</td>\n",
       "      <td>0.000000</td>\n",
       "      <td>0.000000</td>\n",
       "      <td>3.000000</td>\n",
       "      <td>2.000000</td>\n",
       "      <td>5.000000</td>\n",
       "      <td>1.000000</td>\n",
       "      <td>0.000000</td>\n",
       "      <td>212.000000</td>\n",
       "      <td>1.025001e+06</td>\n",
       "    </tr>\n",
       "    <tr>\n",
       "      <td>50%</td>\n",
       "      <td>48.377500</td>\n",
       "      <td>357.500000</td>\n",
       "      <td>44.990000</td>\n",
       "      <td>0.247500</td>\n",
       "      <td>3.000000</td>\n",
       "      <td>1.050000</td>\n",
       "      <td>0.700000</td>\n",
       "      <td>0.000000</td>\n",
       "      <td>0.000000</td>\n",
       "      <td>-7.000000</td>\n",
       "      <td>...</td>\n",
       "      <td>1.000000</td>\n",
       "      <td>0.000000</td>\n",
       "      <td>0.000000</td>\n",
       "      <td>6.177238</td>\n",
       "      <td>2.530326</td>\n",
       "      <td>5.783112</td>\n",
       "      <td>1.567563</td>\n",
       "      <td>0.000000</td>\n",
       "      <td>342.000000</td>\n",
       "      <td>1.050000e+06</td>\n",
       "    </tr>\n",
       "    <tr>\n",
       "      <td>75%</td>\n",
       "      <td>70.630000</td>\n",
       "      <td>701.250000</td>\n",
       "      <td>59.990000</td>\n",
       "      <td>0.888828</td>\n",
       "      <td>42.000000</td>\n",
       "      <td>14.350000</td>\n",
       "      <td>13.950000</td>\n",
       "      <td>0.000000</td>\n",
       "      <td>0.257500</td>\n",
       "      <td>61.750000</td>\n",
       "      <td>...</td>\n",
       "      <td>2.000000</td>\n",
       "      <td>0.000000</td>\n",
       "      <td>0.000000</td>\n",
       "      <td>7.000000</td>\n",
       "      <td>3.000000</td>\n",
       "      <td>7.000000</td>\n",
       "      <td>2.000000</td>\n",
       "      <td>0.000000</td>\n",
       "      <td>530.000000</td>\n",
       "      <td>1.075000e+06</td>\n",
       "    </tr>\n",
       "    <tr>\n",
       "      <td>max</td>\n",
       "      <td>3843.262500</td>\n",
       "      <td>12206.750000</td>\n",
       "      <td>409.990000</td>\n",
       "      <td>159.390000</td>\n",
       "      <td>4320.750000</td>\n",
       "      <td>1102.400000</td>\n",
       "      <td>896.087500</td>\n",
       "      <td>423.540000</td>\n",
       "      <td>3685.200000</td>\n",
       "      <td>31219.250000</td>\n",
       "      <td>...</td>\n",
       "      <td>16.000000</td>\n",
       "      <td>1.000000</td>\n",
       "      <td>1.000000</td>\n",
       "      <td>15.000000</td>\n",
       "      <td>6.000000</td>\n",
       "      <td>9.000000</td>\n",
       "      <td>3.000000</td>\n",
       "      <td>1.000000</td>\n",
       "      <td>1823.000000</td>\n",
       "      <td>1.100000e+06</td>\n",
       "    </tr>\n",
       "  </tbody>\n",
       "</table>\n",
       "<p>8 rows × 79 columns</p>\n",
       "</div>"
      ],
      "text/plain": [
       "            rev_Mean       mou_Mean    totmrc_Mean        da_Mean  \\\n",
       "count  100000.000000  100000.000000  100000.000000  100000.000000   \n",
       "mean       58.719985     513.559937      46.179136       0.888828   \n",
       "std        46.208972     524.229868      23.581283       2.173729   \n",
       "min        -6.167500       0.000000     -26.915000       0.000000   \n",
       "25%        33.311875     151.500000      30.000000       0.000000   \n",
       "50%        48.377500     357.500000      44.990000       0.247500   \n",
       "75%        70.630000     701.250000      59.990000       0.888828   \n",
       "max      3843.262500   12206.750000     409.990000     159.390000   \n",
       "\n",
       "         ovrmou_Mean    ovrrev_Mean    vceovr_Mean    datovr_Mean  \\\n",
       "count  100000.000000  100000.000000  100000.000000  100000.000000   \n",
       "mean       41.072247      13.559560      13.295062       0.261318   \n",
       "std        97.122320      30.446392      30.002391       3.120946   \n",
       "min         0.000000       0.000000       0.000000       0.000000   \n",
       "25%         0.000000       0.000000       0.000000       0.000000   \n",
       "50%         3.000000       1.050000       0.700000       0.000000   \n",
       "75%        42.000000      14.350000      13.950000       0.000000   \n",
       "max      4320.750000    1102.400000     896.087500     423.540000   \n",
       "\n",
       "           roam_Mean     change_mou  ...         models          truck  \\\n",
       "count  100000.000000  100000.000000  ...  100000.000000  100000.000000   \n",
       "mean        1.286405     -13.933818  ...       1.545825       0.188820   \n",
       "std        14.685090     274.854774  ...       0.898391       0.387964   \n",
       "min         0.000000   -3875.000000  ...       1.000000       0.000000   \n",
       "25%         0.000000     -86.000000  ...       1.000000       0.000000   \n",
       "50%         0.000000      -7.000000  ...       1.000000       0.000000   \n",
       "75%         0.257500      61.750000  ...       2.000000       0.000000   \n",
       "max      3685.200000   31219.250000  ...      16.000000       1.000000   \n",
       "\n",
       "                  rv            lor         adults         income  \\\n",
       "count  100000.000000  100000.000000  100000.000000  100000.000000   \n",
       "mean        0.082580       6.177238       2.530326       5.783112   \n",
       "std         0.272854       3.956420       1.274685       1.884277   \n",
       "min         0.000000       0.000000       1.000000       1.000000   \n",
       "25%         0.000000       3.000000       2.000000       5.000000   \n",
       "50%         0.000000       6.177238       2.530326       5.783112   \n",
       "75%         0.000000       7.000000       3.000000       7.000000   \n",
       "max         1.000000      15.000000       6.000000       9.000000   \n",
       "\n",
       "            numbcars       forgntvl        eqpdays   Customer_ID  \n",
       "count  100000.000000  100000.000000  100000.000000  1.000000e+05  \n",
       "mean        1.567563       0.057974     391.932309  1.050000e+06  \n",
       "std         0.445057       0.231663     256.480910  2.886766e+04  \n",
       "min         1.000000       0.000000      -5.000000  1.000001e+06  \n",
       "25%         1.000000       0.000000     212.000000  1.025001e+06  \n",
       "50%         1.567563       0.000000     342.000000  1.050000e+06  \n",
       "75%         2.000000       0.000000     530.000000  1.075000e+06  \n",
       "max         3.000000       1.000000    1823.000000  1.100000e+06  \n",
       "\n",
       "[8 rows x 79 columns]"
      ]
     },
     "execution_count": 13,
     "metadata": {},
     "output_type": "execute_result"
    }
   ],
   "source": [
    "data.describe()"
   ]
  },
  {
   "cell_type": "code",
   "execution_count": 14,
   "metadata": {},
   "outputs": [],
   "source": [
    "data.to_csv('Telecom_customer_churn_data_manipulation_2.csv', index = False)"
   ]
  },
  {
   "cell_type": "code",
   "execution_count": 15,
   "metadata": {},
   "outputs": [
    {
     "data": {
      "text/plain": [
       "<matplotlib.axes._subplots.AxesSubplot at 0x26e8da572c8>"
      ]
     },
     "execution_count": 15,
     "metadata": {},
     "output_type": "execute_result"
    },
    {
     "data": {
      "image/png": "[encoded data removed]",
      "text/plain": [
       "<Figure size 1080x576 with 1 Axes>"
      ]
     },
     "metadata": {
      "needs_background": "light"
     },
     "output_type": "display_data"
    }
   ],
   "source": [
    "plt.figure(figsize=(15,8))\n",
    "data.corr()['churn'].sort_values(ascending = False).plot(kind='bar')"
   ]
  },
  {
   "cell_type": "code",
   "execution_count": 16,
   "metadata": {},
   "outputs": [
    {
     "name": "stdout",
     "output_type": "stream",
     "text": [
      "             rev_Mean  mou_Mean  totmrc_Mean   da_Mean  ovrmou_Mean  \\\n",
      "rev_Mean     1.000000  0.532268     0.592622  0.321411     0.446857   \n",
      "mou_Mean     0.532268  1.000000     0.426270  0.314234     0.432848   \n",
      "totmrc_Mean  0.592622  0.426270     1.000000  0.225018     0.106678   \n",
      "da_Mean      0.321411  0.314234     0.225018  1.000000     0.242294   \n",
      "ovrmou_Mean  0.446857  0.432848     0.106678  0.242294     1.000000   \n",
      "...               ...       ...          ...       ...          ...   \n",
      "income      -0.045999 -0.073041    -0.035983  0.022281    -0.044549   \n",
      "numbcars     0.002863  0.004044     0.003129  0.005585     0.002620   \n",
      "forgntvl    -0.027397 -0.036197    -0.018827 -0.013088    -0.022705   \n",
      "eqpdays     -0.186851 -0.246150    -0.193370 -0.114761    -0.129768   \n",
      "Customer_ID  0.021082  0.082820     0.076707  0.008907     0.033890   \n",
      "\n",
      "             ovrrev_Mean  vceovr_Mean  datovr_Mean  roam_Mean  change_mou  \\\n",
      "rev_Mean        0.442220     0.436876     0.148506   0.169997   -0.014527   \n",
      "mou_Mean        0.426451     0.421311     0.165251   0.116882   -0.023610   \n",
      "totmrc_Mean     0.100602     0.091218     0.095167   0.099651   -0.007545   \n",
      "da_Mean         0.238092     0.234228     0.108309   0.131454   -0.016156   \n",
      "ovrmou_Mean     0.972668     0.938540     0.234801   0.098069   -0.005032   \n",
      "...                  ...          ...          ...        ...         ...   \n",
      "income         -0.046918    -0.042054    -0.049831   0.009403   -0.000987   \n",
      "numbcars        0.002448     0.003160     0.002602  -0.000281    0.002946   \n",
      "forgntvl       -0.023307    -0.021634    -0.019062  -0.002575    0.005975   \n",
      "eqpdays        -0.131117    -0.113549    -0.177547  -0.068598   -0.010500   \n",
      "Customer_ID     0.039428     0.029988     0.096019   0.014278   -0.004481   \n",
      "\n",
      "             ...    models     truck        rv       lor    adults    income  \\\n",
      "rev_Mean     ...  0.194017 -0.033614 -0.005470 -0.031734 -0.027161 -0.045999   \n",
      "mou_Mean     ...  0.213688 -0.040500 -0.016641 -0.030136 -0.015915 -0.073041   \n",
      "totmrc_Mean  ...  0.153959 -0.029109 -0.008289 -0.021854 -0.020692 -0.035983   \n",
      "da_Mean      ...  0.138865 -0.045989 -0.005612 -0.037322 -0.035641  0.022281   \n",
      "ovrmou_Mean  ...  0.124285 -0.027850 -0.004653 -0.031771 -0.020590 -0.044549   \n",
      "...          ...       ...       ...       ...       ...       ...       ...   \n",
      "income       ... -0.026895  0.064507  0.077307  0.027259  0.064786  1.000000   \n",
      "numbcars     ...  0.004561 -0.017221 -0.005823  0.056106  0.117490  0.050549   \n",
      "forgntvl     ... -0.011144  0.123032  0.197575  0.046651  0.088610  0.064719   \n",
      "eqpdays      ... -0.374189  0.025995  0.013038  0.004446  0.000198  0.073643   \n",
      "Customer_ID  ... -0.218049 -0.071386 -0.043898  0.004566  0.002658 -0.059897   \n",
      "\n",
      "             numbcars  forgntvl   eqpdays  Customer_ID  \n",
      "rev_Mean     0.002863 -0.027397 -0.186851     0.021082  \n",
      "mou_Mean     0.004044 -0.036197 -0.246150     0.082820  \n",
      "totmrc_Mean  0.003129 -0.018827 -0.193370     0.076707  \n",
      "da_Mean      0.005585 -0.013088 -0.114761     0.008907  \n",
      "ovrmou_Mean  0.002620 -0.022705 -0.129768     0.033890  \n",
      "...               ...       ...       ...          ...  \n",
      "income       0.050549  0.064719  0.073643    -0.059897  \n",
      "numbcars     1.000000  0.016515 -0.004986     0.009471  \n",
      "forgntvl     0.016515  1.000000  0.021794    -0.013451  \n",
      "eqpdays     -0.004986  0.021794  1.000000    -0.322303  \n",
      "Customer_ID  0.009471 -0.013451 -0.322303     1.000000  \n",
      "\n",
      "[79 rows x 79 columns]\n"
     ]
    }
   ],
   "source": [
    "data.corr()\n",
    "\n",
    "# Droping non corelated data\n",
    "\n",
    "corr_matrix = data.corr(method ='kendall') \n",
    "print (corr_matrix)"
   ]
  },
  {
   "cell_type": "code",
   "execution_count": 17,
   "metadata": {},
   "outputs": [
    {
     "data": {
      "image/png": "[encoded data removed]",
      "text/plain": [
       "<Figure size 432x288 with 1 Axes>"
      ]
     },
     "metadata": {
      "needs_background": "light"
     },
     "output_type": "display_data"
    }
   ],
   "source": [
    "sns.distplot(data['hnd_price'], hist=True, kde=False, \n",
    "             bins=int(180/5), color = 'darkblue', \n",
    "             hist_kws={'edgecolor':'black'},\n",
    "             kde_kws={'linewidth': 4})\n",
    "#ax.set_ylabel('# of Customers')\n",
    "#ax.set_xlabel('Current handset price')\n",
    "#ax.set_title('# of Customers by their current handset price')\n",
    "plt.show()"
   ]
  },
  {
   "cell_type": "code",
   "execution_count": 18,
   "metadata": {},
   "outputs": [
    {
     "data": {
      "image/png": "[encoded data removed]",
      "text/plain": [
       "<Figure size 432x288 with 1 Axes>"
      ]
     },
     "metadata": {
      "needs_background": "light"
     },
     "output_type": "display_data"
    }
   ],
   "source": [
    "sns.distplot(data['eqpdays'], hist=True, kde=False, \n",
    "             bins=int(180/5), color = 'darkblue', \n",
    "             hist_kws={'edgecolor':'black'},\n",
    "             kde_kws={'linewidth': 4})\n",
    "#ax.set_ylabel('# of Customers')\n",
    "#ax.set_xlabel('Number of days (age) of current equipment')\n",
    "#ax.set_title('# of Customers by their number of days current equipment')\n",
    "plt.show()"
   ]
  },
  {
   "cell_type": "code",
   "execution_count": 19,
   "metadata": {},
   "outputs": [
    {
     "data": {
      "image/png": "[encoded data removed]",
      "text/plain": [
       "<Figure size 576x432 with 1 Axes>"
      ]
     },
     "metadata": {
      "needs_background": "light"
     },
     "output_type": "display_data"
    }
   ],
   "source": [
    "#from sklearn.feature_selection import VarianceThreshold\n",
    "#sel = VarianceThreshold(threshold=(.8 * (1 - .8)))\n",
    "#d1 = sel.fit_transform(data)\n",
    "\n",
    "# Predictor value Churn and its intraction with \n",
    "\n",
    "colors = ['#4D3425','#E4512B']\n",
    "ax = (data['churn'].value_counts()*100.0 /len(data)).plot(kind='bar',\n",
    "                                                                           stacked = True,\n",
    "                                                                          rot = 0,\n",
    "                                                                          color = colors,\n",
    "                                                                         figsize = (8,6))\n",
    "#ax.yaxis.set_major_formatter(mtick.PercentFormatter())\n",
    "ax.set_ylabel('% Customers',size = 14)\n",
    "ax.set_xlabel('Churn',size = 14)\n",
    "ax.set_title('Churn Rate', size = 14)\n",
    "\n",
    "# create a list to collect the plt.patches data\n",
    "totals = []\n",
    "\n",
    "# find the values and append to list\n",
    "for i in ax.patches:\n",
    "    totals.append(i.get_width())\n",
    "\n",
    "# set individual bar lables using above list\n",
    "total = sum(totals)\n",
    "\n",
    "for i in ax.patches:\n",
    "    # get_width pulls left or right; get_y pushes up or down\n",
    "    ax.text(i.get_x()+.15, i.get_height()-4.0, \\\n",
    "            str(round((i.get_height()/total), 1))+'%',\n",
    "            fontsize=12,\n",
    "            color='white',\n",
    "           weight = 'bold',\n",
    "           size = 14)"
   ]
  },
  {
   "cell_type": "code",
   "execution_count": 20,
   "metadata": {},
   "outputs": [
    {
     "data": {
      "text/plain": [
       "<matplotlib.axes._subplots.AxesSubplot at 0x26e88f21088>"
      ]
     },
     "execution_count": 20,
     "metadata": {},
     "output_type": "execute_result"
    },
    {
     "data": {
      "image/png": "[encoded data removed]",
      "text/plain": [
       "<Figure size 432x288 with 1 Axes>"
      ]
     },
     "metadata": {
      "needs_background": "light"
     },
     "output_type": "display_data"
    }
   ],
   "source": [
    "#Churn Vs Handset Price \n",
    "sns.boxplot(x = data.churn, y = data.hnd_price)\n",
    "\n",
    "\n"
   ]
  },
  {
   "cell_type": "code",
   "execution_count": 21,
   "metadata": {},
   "outputs": [
    {
     "data": {
      "text/plain": [
       "<seaborn.axisgrid.FacetGrid at 0x26e8f5e03c8>"
      ]
     },
     "execution_count": 21,
     "metadata": {},
     "output_type": "execute_result"
    },
    {
     "data": {
      "image/png": "[encoded data removed]",
      "text/plain": [
       "<Figure size 1800x360 with 2 Axes>"
      ]
     },
     "metadata": {
      "needs_background": "light"
     },
     "output_type": "display_data"
    }
   ],
   "source": [
    "sns.lmplot(\"hnd_price\",\"uniqsubs\",data,col=\"churn\",x_jitter=0.4, y_jitter=0.1,height=5,aspect=2.5)"
   ]
  },
  {
   "cell_type": "code",
   "execution_count": 22,
   "metadata": {},
   "outputs": [
    {
     "data": {
      "image/png": "[encoded data removed]",
      "text/plain": [
       "<Figure size 1080x1080 with 1 Axes>"
      ]
     },
     "metadata": {
      "needs_background": "light"
     },
     "output_type": "display_data"
    }
   ],
   "source": [
    "colors = ['#4D3425','#E4512B']\n",
    "uniqsubs_churn = data.groupby(['uniqsubs','churn']).size().unstack()\n",
    "\n",
    "ax = (uniqsubs_churn.T*100.0 / uniqsubs_churn.T.sum()).T.plot(kind='bar',\n",
    "                                                                width = 0.8,\n",
    "                                                                stacked = True,\n",
    "                                                                rot = 0, \n",
    "                                                                figsize = (15,15),\n",
    "                                                                color = colors)\n",
    "#ax.yaxis.set_major_formatter(mtick.PercentFormatter())\n",
    "ax.legend(loc='center',prop={'size':14},title = 'Churn')\n",
    "ax.set_ylabel('% Customers')\n",
    "ax.set_title('Churn by uniqsubs Level',size = 14)\n",
    "\n",
    "# Code to add the data labels on the stacked bar chart\n",
    "for p in ax.patches:\n",
    "    width, height = p.get_width(), p.get_height()\n",
    "    x, y = p.get_xy() \n",
    "    ax.annotate('{:.0f}%'.format(height), (p.get_x()+.25*width, p.get_y()+.4*height),\n",
    "                color = 'white',\n",
    "               weight = 'bold',size =14)"
   ]
  },
  {
   "cell_type": "code",
   "execution_count": 23,
   "metadata": {},
   "outputs": [
    {
     "data": {
      "image/png": "[encoded data removed]",
      "text/plain": [
       "<Figure size 1080x1080 with 1 Axes>"
      ]
     },
     "metadata": {
      "needs_background": "light"
     },
     "output_type": "display_data"
    }
   ],
   "source": [
    "colors = ['#4D3425','#E4512B']\n",
    "#hnd_price_int = in\n",
    "\n",
    "data['hnd_price'] = data['hnd_price'].astype('int')\n",
    "\n",
    "hnd_price_churn = data.groupby(['hnd_price','churn']).size().unstack()\n",
    "\n",
    "ax = (hnd_price_churn.T*100.0 / hnd_price_churn.T.sum()).T.plot(kind='bar',\n",
    "                                                                width = 0.8,\n",
    "                                                                stacked = True,\n",
    "                                                                rot = 0, \n",
    "                                                                figsize = (15,15),\n",
    "                                                                color = colors)\n",
    "#ax.yaxis.set_major_formatter(mtick.PercentFormatter())\n",
    "ax.legend(loc='center',prop={'size':14},title = 'Churn')\n",
    "ax.set_ylabel('% Customers')\n",
    "ax.set_title('Churn by hnd_price Level',size = 14)\n",
    "\n",
    "# Code to add the data labels on the stacked bar chart\n",
    "for p in ax.patches:\n",
    "    width, height = p.get_width(), p.get_height()\n",
    "    x, y = p.get_xy() \n",
    "    ax.annotate('{:.0f}%'.format(height), (p.get_x()+.25*width, p.get_y()+.4*height),\n",
    "                color = 'white',\n",
    "               weight = 'bold',size =14)"
   ]
  },
  {
   "cell_type": "code",
   "execution_count": 24,
   "metadata": {},
   "outputs": [
    {
     "data": {
      "text/plain": [
       "Text(0.5, 1.0, 'Distribution of total charges by churn')"
      ]
     },
     "execution_count": 24,
     "metadata": {},
     "output_type": "execute_result"
    },
    {
     "data": {
      "image/png": "[encoded data removed]",
      "text/plain": [
       "<Figure size 432x288 with 1 Axes>"
      ]
     },
     "metadata": {
      "needs_background": "light"
     },
     "output_type": "display_data"
    }
   ],
   "source": [
    "ax = sns.kdeplot(data.vceovr_Mean[(data[\"churn\"] == 0) ],\n",
    "                color=\"Red\", shade = True)\n",
    "ax = sns.kdeplot(data.vceovr_Mean[(data[\"churn\"] == 1) ],\n",
    "              ax =ax, color=\"Blue\", shade= True)\n",
    "ax.legend([\"Not Churn\",\"Churn\"],loc='upper right')\n",
    "ax.set_ylabel('Density')\n",
    "ax.set_xlabel('Mean revenue of voice overage')\n",
    "ax.set_title('Distribution of total charges by churn')"
   ]
  },
  {
   "cell_type": "code",
   "execution_count": 25,
   "metadata": {},
   "outputs": [
    {
     "data": {
      "text/plain": [
       "Text(0.5, 1.0, 'Distribution of total charges by churn')"
      ]
     },
     "execution_count": 25,
     "metadata": {},
     "output_type": "execute_result"
    },
    {
     "data": {
      "image/png": "[encoded data removed]",
      "text/plain": [
       "<Figure size 432x288 with 1 Axes>"
      ]
     },
     "metadata": {
      "needs_background": "light"
     },
     "output_type": "display_data"
    }
   ],
   "source": [
    "\n",
    "ax = sns.kdeplot(data.blck_vce_Mean[(data[\"churn\"] == 0) ],\n",
    "                color=\"Red\", shade = True)\n",
    "ax = sns.kdeplot(data.blck_vce_Mean[(data[\"churn\"] == 1) ],\n",
    "                ax =ax, color=\"Blue\", shade= True)\n",
    "ax.legend([\"Not Churn\",\"Churn\"],loc='upper right')\n",
    "ax.set_ylabel('Density')\n",
    "ax.set_xlabel('Mean number of blocked (failed) voice calls')\n",
    "ax.set_title('Distribution of total charges by churn')"
   ]
  },
  {
   "cell_type": "code",
   "execution_count": 26,
   "metadata": {},
   "outputs": [
    {
     "data": {
      "text/plain": [
       "Text(0.5, 1.0, 'Distribution of total charges by churn')"
      ]
     },
     "execution_count": 26,
     "metadata": {},
     "output_type": "execute_result"
    },
    {
     "data": {
      "image/png": "[encoded data removed]",
      "text/plain": [
       "<Figure size 432x288 with 1 Axes>"
      ]
     },
     "metadata": {
      "needs_background": "light"
     },
     "output_type": "display_data"
    }
   ],
   "source": [
    "ax = sns.kdeplot(data.blck_dat_Mean[(data[\"churn\"] == 0) ],\n",
    "               color=\"Red\", shade = True)\n",
    "ax = sns.kdeplot(data.blck_dat_Mean[(data[\"churn\"] == 1) ],\n",
    "              ax =ax, color=\"Blue\", shade= True)\n",
    "ax.legend([\"Not Churn\",\"Churn\"],loc='upper right')\n",
    "ax.set_ylabel('Density')\n",
    "ax.set_xlabel('Mean number of blocked (failed) data calls')\n",
    "ax.set_title('Distribution of total charges by churn')"
   ]
  },
  {
   "cell_type": "code",
   "execution_count": 27,
   "metadata": {},
   "outputs": [
    {
     "data": {
      "text/plain": [
       "Text(0.5, 1.0, 'Distribution of total charges by churn')"
      ]
     },
     "execution_count": 27,
     "metadata": {},
     "output_type": "execute_result"
    },
    {
     "data": {
      "image/png": "[encoded data removed]",
      "text/plain": [
       "<Figure size 432x288 with 1 Axes>"
      ]
     },
     "metadata": {
      "needs_background": "light"
     },
     "output_type": "display_data"
    }
   ],
   "source": [
    "ax = sns.kdeplot(data.totmrc_Mean[(data[\"churn\"] == 0) ],\n",
    "                color=\"Red\", shade = True)\n",
    "ax = sns.kdeplot(data.totmrc_Mean[(data[\"churn\"] == 1) ],\n",
    "                ax =ax, color=\"Blue\", shade= True)\n",
    "ax.legend([\"Not Churn\",\"Churn\"],loc='upper right')\n",
    "ax.set_ylabel('Density')\n",
    "ax.set_xlabel('Mean total monthly recurring charge')\n",
    "ax.set_title('Distribution of total charges by churn')"
   ]
  },
  {
   "cell_type": "code",
   "execution_count": 28,
   "metadata": {},
   "outputs": [
    {
     "data": {
      "text/plain": [
       "Text(0.5, 1.0, 'Distribution of total charges by churn')"
      ]
     },
     "execution_count": 28,
     "metadata": {},
     "output_type": "execute_result"
    },
    {
     "data": {
      "image/png": "[encoded data removed]",
      "text/plain": [
       "<Figure size 432x288 with 1 Axes>"
      ]
     },
     "metadata": {
      "needs_background": "light"
     },
     "output_type": "display_data"
    }
   ],
   "source": [
    "#complete_Mean Mean number of completed calls\n",
    "ax = sns.kdeplot(data.complete_Mean[(data[\"churn\"] == 0) ],\n",
    "                color=\"Red\", shade = True)\n",
    "ax = sns.kdeplot(data.complete_Mean[(data[\"churn\"] == 1) ],\n",
    "                ax =ax, color=\"Blue\", shade= True)\n",
    "ax.legend([\"Not Churn\",\"Churn\"],loc='upper right')\n",
    "ax.set_ylabel('Density')\n",
    "ax.set_xlabel('Mean number of completed calls')\n",
    "ax.set_title('Distribution of total charges by churn')"
   ]
  },
  {
   "cell_type": "code",
   "execution_count": 29,
   "metadata": {},
   "outputs": [],
   "source": [
    "#Logistic Regression\n",
    "\n",
    "y = data['churn'].values\n",
    "X = data.drop(columns= ['churn'])\n",
    "\n",
    "# Scaling all the variables to a range of 0 to 1\n",
    "\n",
    "#from sklearn.preprocessing import MinMaxScaler\n",
    "#features = X.columns.values\n",
    "#scaler = MinMaxScaler(feature_range = (0,1))\n",
    "#scaler.fit(X)\n",
    "#X = pd.DataFrame(scaler.transform(X))\n",
    "#X.columns = features\n"
   ]
  },
  {
   "cell_type": "code",
   "execution_count": 30,
   "metadata": {},
   "outputs": [],
   "source": [
    "# Create Train & Test Data\n",
    "from sklearn.model_selection import train_test_split\n",
    "X_train, X_test, y_train, y_test = train_test_split(X, y, test_size=0.2, random_state=42)"
   ]
  },
  {
   "cell_type": "code",
   "execution_count": 31,
   "metadata": {},
   "outputs": [
    {
     "name": "stderr",
     "output_type": "stream",
     "text": [
      "C:\\Users\\s114sing\\AppData\\Local\\Continuum\\anaconda3\\lib\\site-packages\\sklearn\\linear_model\\logistic.py:432: FutureWarning: Default solver will be changed to 'lbfgs' in 0.22. Specify a solver to silence this warning.\n",
      "  FutureWarning)\n"
     ]
    }
   ],
   "source": [
    "# Running logistic regression model\n",
    "from sklearn.linear_model import LogisticRegression\n",
    "model = LogisticRegression()\n",
    "result = model.fit(X_train, y_train)"
   ]
  },
  {
   "cell_type": "code",
   "execution_count": 33,
   "metadata": {},
   "outputs": [
    {
     "name": "stdout",
     "output_type": "stream",
     "text": [
      "the prediction accuracy\n",
      "0.58145\n"
     ]
    }
   ],
   "source": [
    "from sklearn import metrics\n",
    "prediction_test = model.predict(X_test)\n",
    "print (\"the prediction accuracy\")\n",
    "print(metrics.accuracy_score(y_test, prediction_test))"
   ]
  },
  {
   "cell_type": "code",
   "execution_count": 34,
   "metadata": {},
   "outputs": [
    {
     "name": "stdout",
     "output_type": "stream",
     "text": [
      "AxesSubplot(0.125,0.125;0.775x0.755)\n"
     ]
    },
    {
     "data": {
      "image/png": "[encoded data removed]",
      "text/plain": [
       "<Figure size 432x288 with 1 Axes>"
      ]
     },
     "metadata": {
      "needs_background": "light"
     },
     "output_type": "display_data"
    }
   ],
   "source": [
    "# To get the weights of all the variables\n",
    "weights = pd.Series(model.coef_[0],\n",
    "                   index=X.columns.values)\n",
    "print (weights.sort_values(ascending = False)[:10].plot(kind='bar'))"
   ]
  },
  {
   "cell_type": "code",
   "execution_count": 35,
   "metadata": {},
   "outputs": [
    {
     "name": "stdout",
     "output_type": "stream",
     "text": [
      "AxesSubplot(0.125,0.125;0.775x0.755)\n"
     ]
    },
    {
     "data": {
      "image/png": "[encoded data removed]",
      "text/plain": [
       "<Figure size 432x288 with 1 Axes>"
      ]
     },
     "metadata": {
      "needs_background": "light"
     },
     "output_type": "display_data"
    }
   ],
   "source": [
    "print(weights.sort_values(ascending = False)[-10:].plot(kind='bar'))"
   ]
  },
  {
   "cell_type": "code",
   "execution_count": 36,
   "metadata": {},
   "outputs": [
    {
     "name": "stdout",
     "output_type": "stream",
     "text": [
      "0.603\n"
     ]
    }
   ],
   "source": [
    "#Random Forest\n",
    "from sklearn.ensemble import RandomForestClassifier\n",
    "X_train, X_test, y_train, y_test = train_test_split(X, y, test_size=0.2, random_state=42)\n",
    "model_rf = RandomForestClassifier(n_estimators=1000 , oob_score = True, n_jobs = -1,\n",
    "                                  random_state =50, max_features = \"auto\",\n",
    "                                  max_leaf_nodes = 30)\n",
    "model_rf.fit(X_train, y_train)\n",
    "\n",
    "# Make predictions\n",
    "prediction_test = model_rf.predict(X_test)\n",
    "print (metrics.accuracy_score(y_test, prediction_test))"
   ]
  },
  {
   "cell_type": "code",
   "execution_count": 37,
   "metadata": {},
   "outputs": [
    {
     "data": {
      "text/plain": [
       "<matplotlib.axes._subplots.AxesSubplot at 0x26e916e3308>"
      ]
     },
     "execution_count": 37,
     "metadata": {},
     "output_type": "execute_result"
    },
    {
     "data": {
      "image/png": "[encoded data removed]",
      "text/plain": [
       "<Figure size 432x288 with 1 Axes>"
      ]
     },
     "metadata": {
      "needs_background": "light"
     },
     "output_type": "display_data"
    }
   ],
   "source": [
    "importances = model_rf.feature_importances_\n",
    "weights = pd.Series(importances,\n",
    "                  index=X.columns.values)\n",
    "weights.sort_values()[-10:].plot(kind = 'barh')"
   ]
  },
  {
   "cell_type": "code",
   "execution_count": null,
   "metadata": {},
   "outputs": [],
   "source": [
    "#Deep Learning Algo implementation\n",
    "print (\"X_train shape: \" + str(X_train.shape))\n",
    "print (\"y_train shape: \" + str(y_train.shape))\n",
    "print (\"X_test  shape: \" + str(X_test.shape))\n",
    "print (\"y_test  shape: \" + str(y_test.shape))"
   ]
  },
  {
   "cell_type": "code",
   "execution_count": null,
   "metadata": {},
   "outputs": [],
   "source": [
    "# GRADED FUNCTION: sigmoid\n",
    "\n",
    "def sigmoid(z):\n",
    "    \"\"\"\n",
    "    Compute the sigmoid of z\n",
    "\n",
    "    Arguments:\n",
    "    z -- A scalar or numpy array of any size.\n",
    "\n",
    "    Return:\n",
    "    s -- sigmoid(z)\n",
    "    \"\"\"\n",
    "\n",
    "    ### START CODE HERE ### (≈ 1 line of code)\n",
    "    s = 1/(1+np.exp(-z))\n",
    "    ### END CODE HERE ###\n",
    "    \n",
    "    return s"
   ]
  },
  {
   "cell_type": "code",
   "execution_count": null,
   "metadata": {},
   "outputs": [],
   "source": [
    "print (\"sigmoid([0, 2]) = \" + str(sigmoid(np.array([0,2]))))"
   ]
  },
  {
   "cell_type": "code",
   "execution_count": null,
   "metadata": {},
   "outputs": [],
   "source": [
    "# GRADED FUNCTION: initialize_with_zeros\n",
    "\n",
    "def initialize_with_zeros(dim):\n",
    "    \"\"\"\n",
    "    This function creates a vector of zeros of shape (dim, 1) for w and initializes b to 0.\n",
    "    \n",
    "    Argument:\n",
    "    dim -- size of the w vector we want (or number of parameters in this case)\n",
    "    \n",
    "    Returns:\n",
    "    w -- initialized vector of shape (dim, 1)\n",
    "    b -- initialized scalar (corresponds to the bias)\n",
    "    \"\"\"\n",
    "    \n",
    "    ### START CODE HERE ### (≈ 1 line of code)\n",
    "    w = np.zeros((dim,1))\n",
    "    b = 0.0\n",
    "    ### END CODE HERE ###\n",
    "\n",
    "    assert(w.shape == (dim, 1))\n",
    "    assert(isinstance(b, float) or isinstance(b, int))\n",
    "    \n",
    "    return w, b"
   ]
  },
  {
   "cell_type": "code",
   "execution_count": null,
   "metadata": {},
   "outputs": [],
   "source": [
    "dim = 2\n",
    "w, b = initialize_with_zeros(dim)\n",
    "print (\"w = \" + str(w))\n",
    "print (\"b = \" + str(b))"
   ]
  },
  {
   "cell_type": "code",
   "execution_count": null,
   "metadata": {},
   "outputs": [],
   "source": [
    "# GRADED FUNCTION: propagate\n",
    "\n",
    "def propagate(w, b, X, Y):\n",
    "    \"\"\"\n",
    "    Implement the cost function and its gradient for the propagation explained above\n",
    "\n",
    "    Arguments:\n",
    "    w -- weights, a numpy array of size (num_px * num_px * 3, 1)\n",
    "    b -- bias, a scalar\n",
    "    X -- data of size (num_px * num_px * 3, number of examples)\n",
    "    Y -- true \"label\" vector (containing 0 if non-cat, 1 if cat) of size (1, number of examples)\n",
    "\n",
    "    Return:\n",
    "    cost -- negative log-likelihood cost for logistic regression\n",
    "    dw -- gradient of the loss with respect to w, thus same shape as w\n",
    "    db -- gradient of the loss with respect to b, thus same shape as b\n",
    "    \n",
    "    Tips:\n",
    "    - Write your code step by step for the propagation. np.log(), np.dot()\n",
    "    \"\"\"\n",
    "    \n",
    "    m = X.shape[1]\n",
    "    # FORWARD PROPAGATION (FROM X TO COST)\n",
    "    ### START CODE HERE ### (≈ 2 lines of code)\n",
    "    y_head = sigmoid(np.dot(w.T,X)+b)                               # compute activation\n",
    "    #loss function\n",
    "    loss = -Y*np.log(y_head)-(1-Y)*np.log(1-y_head)\n",
    "    #cost = -1/m * np.sum(Y.dot(np.log(A)) + (1-Y).dot((np.log(1-A)))  # compute cost\n",
    "    cost = (np.sum(loss))/m\n",
    "    #cost = -1/m * np.sum(Y * np.log(A) + (1-Y) * (np.log(1-A)))\n",
    "    ### END CODE HERE ###\n",
    "    \n",
    "    # BACKWARD PROPAGATION (TO FIND GRAD)\n",
    "    ### START CODE HERE ### (≈ 2 lines of code)\n",
    "    dz= (1/m)*(y_head - Y)\n",
    "    dw = np.dot(X,dz.T)\n",
    "    db = np.sum(dz)\n",
    "    ### END CODE HERE ###\n",
    "\n",
    "    assert(dw.shape == w.shape)\n",
    "    assert(db.dtype == float)\n",
    "    cost = np.squeeze(cost)\n",
    "    assert(cost.shape == ())\n",
    "    \n",
    "    grads = {\"dw\": dw,\n",
    "             \"db\": db}\n",
    "    \n",
    "    return grads, cost\n"
   ]
  },
  {
   "cell_type": "code",
   "execution_count": null,
   "metadata": {},
   "outputs": [],
   "source": [
    "w, b, X, Y = np.array([[1.],[2.]]), 2., np.array([[1.,2.,-1.],[3.,4.,-3.2]]), np.array([[1,0,1]])\n",
    "\n",
    "print (\"w = \" + str(w))\n",
    "print (\"b = \" + str(b))\n",
    "\n",
    "grads, cost = propagate(w, b, X, Y)\n",
    "print (\"dw = \" + str(grads[\"dw\"]))\n",
    "print (\"db = \" + str(grads[\"db\"]))\n",
    "print (\"cost = \" + str(cost))"
   ]
  },
  {
   "cell_type": "code",
   "execution_count": null,
   "metadata": {},
   "outputs": [],
   "source": [
    "# GRADED FUNCTION: optimize\n",
    "\n",
    "def optimize(w, b, X, Y, num_iterations, learning_rate, print_cost = False):\n",
    "    \"\"\"\n",
    "    This function optimizes w and b by running a gradient descent algorithm\n",
    "    \n",
    "    Arguments:\n",
    "    w -- weights, a numpy array of size (num_px * num_px * 3, 1)\n",
    "    b -- bias, a scalar\n",
    "    X -- data of shape (num_px * num_px * 3, number of examples)\n",
    "    Y -- true \"label\" vector (containing 0 if not Churn, 1 if Churn), of shape (1, number of examples)\n",
    "    num_iterations -- number of iterations of the optimization loop\n",
    "    learning_rate -- learning rate of the gradient descent update rule\n",
    "    print_cost -- True to print the loss every 100 steps\n",
    "    \n",
    "    Returns:\n",
    "    params -- dictionary containing the weights w and bias b\n",
    "    grads -- dictionary containing the gradients of the weights and bias with respect to the cost function\n",
    "    costs -- list of all the costs computed during the optimization, this will be used to plot the learning curve.\n",
    "    \n",
    "    Tips:\n",
    "    You basically need to write down two steps and iterate through them:\n",
    "        1) Calculate the cost and the gradient for the current parameters. Use propagate().\n",
    "        2) Update the parameters using gradient descent rule for w and b.\n",
    "    \"\"\"\n",
    "    \n",
    "    costs = []\n",
    "    \n",
    "    for i in range(num_iterations):\n",
    "        \n",
    "        \n",
    "        # Cost and gradient calculation (≈ 1-4 lines of code)\n",
    "        ### START CODE HERE ### \n",
    "        grads, cost = propagate(w, b, X, Y)\n",
    "        ### END CODE HERE ###\n",
    "        \n",
    "        # Retrieve derivatives from grads\n",
    "        dw = grads[\"dw\"]\n",
    "        db = grads[\"db\"]\n",
    "        \n",
    "        # update rule (≈ 2 lines of code)\n",
    "        ### START CODE HERE ###\n",
    "        w = w - (learning_rate*dw)\n",
    "        b = b - (learning_rate*db)\n",
    "        ### END CODE HERE ###\n",
    "        \n",
    "        # Record the costs\n",
    "        if i % 100 == 0:\n",
    "            costs.append(cost)\n",
    "        \n",
    "        # Print the cost every 100 training examples\n",
    "        if print_cost and i % 100 == 0:\n",
    "            print (\"Cost after iteration %i: %f\" %(i, cost))\n",
    "    \n",
    "    params = {\"w\": w,\n",
    "              \"b\": b}\n",
    "    \n",
    "    grads = {\"dw\": dw,\n",
    "             \"db\": db}\n",
    "    \n",
    "    return params, grads, costs"
   ]
  },
  {
   "cell_type": "code",
   "execution_count": null,
   "metadata": {},
   "outputs": [],
   "source": [
    "params, grads, costs = optimize(w, b, X, Y, num_iterations= 100, learning_rate = 0.009, print_cost = False)\n",
    "\n",
    "print (\"w = \" + str(params[\"w\"]))\n",
    "print (\"b = \" + str(params[\"b\"]))\n",
    "print (\"dw = \" + str(grads[\"dw\"]))\n",
    "print (\"db = \" + str(grads[\"db\"]))"
   ]
  },
  {
   "cell_type": "code",
   "execution_count": null,
   "metadata": {},
   "outputs": [],
   "source": [
    "# GRADED FUNCTION: predict\n",
    "\n",
    "def predict(w, b, X):\n",
    "    '''\n",
    "    Predict whether the label is 0 or 1 using learned logistic regression parameters (w, b)\n",
    "    \n",
    "    Arguments:\n",
    "    w -- weights, a numpy array of size (num_px * num_px * 3, 1)\n",
    "    b -- bias, a scalar\n",
    "    X -- data of size (num_px * num_px * 3, number of examples)\n",
    "    \n",
    "    Returns:\n",
    "    Y_prediction -- a numpy array (vector) containing all predictions (0/1) for the examples in X\n",
    "    '''\n",
    "    \n",
    "    m = X.shape[1]\n",
    "    Y_prediction = np.zeros((1,m))\n",
    "    w = w.reshape(X.shape[0], 1)\n",
    "    \n",
    "    # Compute vector \"A\" predicting the probabilities of a cat being present in the picture\n",
    "    ### START CODE HERE ### (≈ 1 line of code)\n",
    "    A =  sigmoid(np.dot(w.T,X)+ b)\n",
    " \n",
    "    ### END CODE HERE ###  \n",
    "    for i in range(A.shape[1]):\n",
    "        \n",
    "        # Convert probabilities A[0,i] to actual predictions p[0,i]\n",
    "        ### START CODE HERE ### (≈ 4 lines of code)\n",
    "       ''''\n",
    "        x_exp = np.exp(A)\n",
    "        print(x_exp)\n",
    "        x_sum = np.sum(x_exp,axis=1,keepdims=True)\n",
    "        print(x_sum)\n",
    "        s = np.divide(x_exp,x_sum)\n",
    "        '''\n",
    "        \n",
    "    Y_prediction = 1. * (A > 0.5)\n",
    "        ### END CODE HERE ###\n",
    "    \n",
    "    assert(Y_prediction.shape == (1, m))\n",
    "    \n",
    "    return Y_prediction"
   ]
  },
  {
   "cell_type": "code",
   "execution_count": null,
   "metadata": {},
   "outputs": [],
   "source": [
    "w = np.array([[0.1124579],[0.23106775]])\n",
    "b = -0.3\n",
    "X = np.array([[1.,-1.1,-3.2],[1.2,2.,0.1]])\n",
    "print (\"predictions = \" + str(predict(w, b, X)))"
   ]
  },
  {
   "cell_type": "code",
   "execution_count": null,
   "metadata": {},
   "outputs": [],
   "source": [
    "# GRADED FUNCTION: model\n",
    "\n",
    "def modelDL(X_train, Y_train, X_test, Y_test, num_iterations = 2000, learning_rate = 0.5, print_cost = False):\n",
    "    \"\"\"\n",
    "    Builds the logistic regression model by calling the function you've implemented previously\n",
    "    \n",
    "    Arguments:\n",
    "    X_train -- training set represented by a numpy array of shape (num_px * num_px * 3, m_train)\n",
    "    Y_train -- training labels represented by a numpy array (vector) of shape (1, m_train)\n",
    "    X_test -- test set represented by a numpy array of shape (num_px * num_px * 3, m_test)\n",
    "    Y_test -- test labels represented by a numpy array (vector) of shape (1, m_test)\n",
    "    num_iterations -- hyperparameter representing the number of iterations to optimize the parameters\n",
    "    learning_rate -- hyperparameter representing the learning rate used in the update rule of optimize()\n",
    "    print_cost -- Set to true to print the cost every 100 iterations\n",
    "    \n",
    "    Returns:\n",
    "    d -- dictionary containing information about the model.\n",
    "    \"\"\"\n",
    "    \n",
    "    ### START CODE HERE ###\n",
    "    \n",
    "    # initialize parameters with zeros (≈ 1 line of code)\n",
    "    w, b = initialize_with_zeros(X_train.shape[0])\n",
    "\n",
    "    # Gradient descent (≈ 1 line of code)\n",
    "    parameters, grads, costs = optimize(w, b, X_train, Y_train, num_iterations, learning_rate, print_cost = False)\n",
    "    \n",
    "    # Retrieve parameters w and b from dictionary \"parameters\"\n",
    "    w = parameters[\"w\"]\n",
    "    b = parameters[\"b\"]\n",
    "    \n",
    "    # Predict test/train set examples (≈ 2 lines of code)\n",
    "    Y_prediction_test = predict(w,b,X_test)\n",
    "    Y_prediction_train = predict(w,b,X_train)\n",
    "\n",
    "    ### END CODE HERE ###\n",
    "\n",
    "    # Print train/test Errors\n",
    "    print(\"train accuracy: {} %\".format(100 - np.mean(np.abs(Y_prediction_train - Y_train)) * 100))\n",
    "    print(\"test accuracy: {} %\".format(100 - np.mean(np.abs(Y_prediction_test - Y_test)) * 100))\n",
    "       \n",
    "    d = {\"costs\": costs,\n",
    "         \"Y_prediction_test\": Y_prediction_test, \n",
    "         \"Y_prediction_train\" : Y_prediction_train, \n",
    "         \"w\" : w, \n",
    "         \"b\" : b,\n",
    "         \"learning_rate\" : learning_rate,\n",
    "         \"num_iterations\": num_iterations}\n",
    "    \n",
    "    return d"
   ]
  },
  {
   "cell_type": "code",
   "execution_count": null,
   "metadata": {},
   "outputs": [],
   "source": [
    "y = data['churn'].values\n",
    "X = data.drop(columns= ['churn'])\n",
    "# Create Train & Test Data\n",
    "from sklearn.model_selection import train_test_split\n",
    "X_train, X_test, y_train, y_test = train_test_split(X, y, test_size=0.2, random_state=42)\n",
    "\n",
    "print (\"X_train shape: \" + str(X_train.shape))\n",
    "print (\"y_train shape: \" + str(y_train.shape))\n",
    "print (\"X_test  shape: \" + str(X_test.shape))\n",
    "print (\"y_test  shape: \" + str(y_test.shape))"
   ]
  },
  {
   "cell_type": "code",
   "execution_count": null,
   "metadata": {},
   "outputs": [],
   "source": [
    "#d = modelDL(X_train.T, y_train.T, X_test.T, y_test.T, num_iterations = 2000, learning_rate = 0.005, print_cost = True)"
   ]
  },
  {
   "cell_type": "code",
   "execution_count": null,
   "metadata": {},
   "outputs": [],
   "source": [
    "# Plot learning curve (with costs)\n",
    "costs = np.squeeze(d['costs'])\n",
    "plt.plot(costs)\n",
    "plt.ylabel('cost')\n",
    "plt.xlabel('iterations (per hundreds)')\n",
    "plt.title(\"Learning rate =\" + str(d[\"learning_rate\"]))\n",
    "plt.show()"
   ]
  },
  {
   "cell_type": "code",
   "execution_count": null,
   "metadata": {},
   "outputs": [],
   "source": [
    "# learning_rates = [0.01, 0.001, 0.0001]\n",
    "# models = {}\n",
    "# for i in learning_rates:\n",
    "#     print (\"learning rate is: \" + str(i))\n",
    "#     models[str(i)] = modelDL(X_train.T, y_train.T, X_test.T, y_test.T, num_iterations = 2000, learning_rate = i, print_cost = True)\n",
    "#     print ('\\n' + \"-------------------------------------------------------\" + '\\n')\n",
    "\n",
    "# for i in learning_rates:\n",
    "#     plt.plot(np.squeeze(models[str(i)][\"costs\"]), label= str(models[str(i)][\"learning_rate\"]))\n",
    "\n",
    "# plt.ylabel('cost')\n",
    "# plt.xlabel('iterations')\n",
    "\n",
    "# legend = plt.legend(loc='upper center', shadow=True)\n",
    "# frame = legend.get_frame()\n",
    "# frame.set_facecolor('0.90')\n",
    "# plt.show()"
   ]
  },
  {
   "cell_type": "code",
   "execution_count": null,
   "metadata": {},
   "outputs": [],
   "source": [
    "#Keras for Deep learning\n",
    "from keras.models import Sequential\n",
    "from keras.layers import Dense"
   ]
  },
  {
   "cell_type": "code",
   "execution_count": null,
   "metadata": {},
   "outputs": [],
   "source": []
  },
  {
   "cell_type": "code",
   "execution_count": null,
   "metadata": {},
   "outputs": [],
   "source": []
  }
 ],
 "metadata": {
  "kernelspec": {
   "display_name": "Python 3",
   "language": "python",
   "name": "python3"
  },
  "language_info": {
   "codemirror_mode": {
    "name": "ipython",
    "version": 3
   },
   "file_extension": ".py",
   "mimetype": "text/x-python",
   "name": "python",
   "nbconvert_exporter": "python",
   "pygments_lexer": "ipython3",
   "version": "3.7.4"
  }
 },
 "nbformat": 4,
 "nbformat_minor": 2
}
